{
 "cells": [
  {
   "cell_type": "code",
   "execution_count": 114,
   "metadata": {},
   "outputs": [
    {
     "data": {
      "text/html": [
       "<div>\n",
       "<style scoped>\n",
       "    .dataframe tbody tr th:only-of-type {\n",
       "        vertical-align: middle;\n",
       "    }\n",
       "\n",
       "    .dataframe tbody tr th {\n",
       "        vertical-align: top;\n",
       "    }\n",
       "\n",
       "    .dataframe thead th {\n",
       "        text-align: right;\n",
       "    }\n",
       "</style>\n",
       "<table border=\"1\" class=\"dataframe\">\n",
       "  <thead>\n",
       "    <tr style=\"text-align: right;\">\n",
       "      <th></th>\n",
       "      <th>symboling</th>\n",
       "      <th>CarName</th>\n",
       "      <th>fueltype</th>\n",
       "      <th>aspiration</th>\n",
       "      <th>doornumber</th>\n",
       "      <th>carbody</th>\n",
       "      <th>drivewheel</th>\n",
       "      <th>enginelocation</th>\n",
       "      <th>wheelbase</th>\n",
       "      <th>carlength</th>\n",
       "      <th>...</th>\n",
       "      <th>enginesize</th>\n",
       "      <th>fuelsystem</th>\n",
       "      <th>boreratio</th>\n",
       "      <th>stroke</th>\n",
       "      <th>compressionratio</th>\n",
       "      <th>horsepower</th>\n",
       "      <th>peakrpm</th>\n",
       "      <th>citympg</th>\n",
       "      <th>highwaympg</th>\n",
       "      <th>price</th>\n",
       "    </tr>\n",
       "  </thead>\n",
       "  <tbody>\n",
       "    <tr>\n",
       "      <th>0</th>\n",
       "      <td>3</td>\n",
       "      <td>alfa-romero giulia</td>\n",
       "      <td>gas</td>\n",
       "      <td>std</td>\n",
       "      <td>two</td>\n",
       "      <td>convertible</td>\n",
       "      <td>rwd</td>\n",
       "      <td>front</td>\n",
       "      <td>88.6</td>\n",
       "      <td>168.8</td>\n",
       "      <td>...</td>\n",
       "      <td>130</td>\n",
       "      <td>mpfi</td>\n",
       "      <td>3.47</td>\n",
       "      <td>2.68</td>\n",
       "      <td>9.0</td>\n",
       "      <td>111</td>\n",
       "      <td>5000</td>\n",
       "      <td>21</td>\n",
       "      <td>27</td>\n",
       "      <td>13495.0</td>\n",
       "    </tr>\n",
       "    <tr>\n",
       "      <th>1</th>\n",
       "      <td>3</td>\n",
       "      <td>alfa-romero stelvio</td>\n",
       "      <td>gas</td>\n",
       "      <td>std</td>\n",
       "      <td>two</td>\n",
       "      <td>convertible</td>\n",
       "      <td>rwd</td>\n",
       "      <td>front</td>\n",
       "      <td>88.6</td>\n",
       "      <td>168.8</td>\n",
       "      <td>...</td>\n",
       "      <td>130</td>\n",
       "      <td>mpfi</td>\n",
       "      <td>3.47</td>\n",
       "      <td>2.68</td>\n",
       "      <td>9.0</td>\n",
       "      <td>111</td>\n",
       "      <td>5000</td>\n",
       "      <td>21</td>\n",
       "      <td>27</td>\n",
       "      <td>16500.0</td>\n",
       "    </tr>\n",
       "    <tr>\n",
       "      <th>2</th>\n",
       "      <td>1</td>\n",
       "      <td>alfa-romero Quadrifoglio</td>\n",
       "      <td>gas</td>\n",
       "      <td>std</td>\n",
       "      <td>two</td>\n",
       "      <td>hatchback</td>\n",
       "      <td>rwd</td>\n",
       "      <td>front</td>\n",
       "      <td>94.5</td>\n",
       "      <td>171.2</td>\n",
       "      <td>...</td>\n",
       "      <td>152</td>\n",
       "      <td>mpfi</td>\n",
       "      <td>2.68</td>\n",
       "      <td>3.47</td>\n",
       "      <td>9.0</td>\n",
       "      <td>154</td>\n",
       "      <td>5000</td>\n",
       "      <td>19</td>\n",
       "      <td>26</td>\n",
       "      <td>16500.0</td>\n",
       "    </tr>\n",
       "    <tr>\n",
       "      <th>3</th>\n",
       "      <td>2</td>\n",
       "      <td>audi 100 ls</td>\n",
       "      <td>gas</td>\n",
       "      <td>std</td>\n",
       "      <td>four</td>\n",
       "      <td>sedan</td>\n",
       "      <td>fwd</td>\n",
       "      <td>front</td>\n",
       "      <td>99.8</td>\n",
       "      <td>176.6</td>\n",
       "      <td>...</td>\n",
       "      <td>109</td>\n",
       "      <td>mpfi</td>\n",
       "      <td>3.19</td>\n",
       "      <td>3.40</td>\n",
       "      <td>10.0</td>\n",
       "      <td>102</td>\n",
       "      <td>5500</td>\n",
       "      <td>24</td>\n",
       "      <td>30</td>\n",
       "      <td>13950.0</td>\n",
       "    </tr>\n",
       "    <tr>\n",
       "      <th>4</th>\n",
       "      <td>2</td>\n",
       "      <td>audi 100ls</td>\n",
       "      <td>gas</td>\n",
       "      <td>std</td>\n",
       "      <td>four</td>\n",
       "      <td>sedan</td>\n",
       "      <td>4wd</td>\n",
       "      <td>front</td>\n",
       "      <td>99.4</td>\n",
       "      <td>176.6</td>\n",
       "      <td>...</td>\n",
       "      <td>136</td>\n",
       "      <td>mpfi</td>\n",
       "      <td>3.19</td>\n",
       "      <td>3.40</td>\n",
       "      <td>8.0</td>\n",
       "      <td>115</td>\n",
       "      <td>5500</td>\n",
       "      <td>18</td>\n",
       "      <td>22</td>\n",
       "      <td>17450.0</td>\n",
       "    </tr>\n",
       "  </tbody>\n",
       "</table>\n",
       "<p>5 rows × 25 columns</p>\n",
       "</div>"
      ],
      "text/plain": [
       "   symboling                   CarName fueltype aspiration doornumber  \\\n",
       "0          3        alfa-romero giulia      gas        std        two   \n",
       "1          3       alfa-romero stelvio      gas        std        two   \n",
       "2          1  alfa-romero Quadrifoglio      gas        std        two   \n",
       "3          2               audi 100 ls      gas        std       four   \n",
       "4          2                audi 100ls      gas        std       four   \n",
       "\n",
       "       carbody drivewheel enginelocation  wheelbase  carlength  ...  \\\n",
       "0  convertible        rwd          front       88.6      168.8  ...   \n",
       "1  convertible        rwd          front       88.6      168.8  ...   \n",
       "2    hatchback        rwd          front       94.5      171.2  ...   \n",
       "3        sedan        fwd          front       99.8      176.6  ...   \n",
       "4        sedan        4wd          front       99.4      176.6  ...   \n",
       "\n",
       "   enginesize  fuelsystem  boreratio stroke compressionratio  horsepower  \\\n",
       "0         130        mpfi       3.47   2.68              9.0         111   \n",
       "1         130        mpfi       3.47   2.68              9.0         111   \n",
       "2         152        mpfi       2.68   3.47              9.0         154   \n",
       "3         109        mpfi       3.19   3.40             10.0         102   \n",
       "4         136        mpfi       3.19   3.40              8.0         115   \n",
       "\n",
       "  peakrpm  citympg  highwaympg    price  \n",
       "0    5000       21          27  13495.0  \n",
       "1    5000       21          27  16500.0  \n",
       "2    5000       19          26  16500.0  \n",
       "3    5500       24          30  13950.0  \n",
       "4    5500       18          22  17450.0  \n",
       "\n",
       "[5 rows x 25 columns]"
      ]
     },
     "execution_count": 114,
     "metadata": {},
     "output_type": "execute_result"
    }
   ],
   "source": [
    "import numpy as np\n",
    "import pandas as pd \n",
    "from sklearn.model_selection import train_test_split, GridSearchCV,cross_val_score\n",
    "from sklearn.metrics import mean_squared_error, r2_score , accuracy_score\n",
    "import matplotlib.pyplot as plt\n",
    "from sklearn.preprocessing import scale \n",
    "from sklearn import model_selection\n",
    "from sklearn.tree import DecisionTreeRegressor, DecisionTreeClassifier\n",
    "from sklearn.neighbors import KNeighborsRegressor\n",
    "from sklearn.ensemble import BaggingRegressor , RandomForestRegressor\n",
    "from warnings import filterwarnings\n",
    "filterwarnings('ignore')\n",
    "data = pd.read_csv(\"CarPrice_Assignment.csv\")\n",
    "df = data.copy()\n",
    "df = df.iloc[:,1:]\n",
    "df.head()"
   ]
  },
  {
   "cell_type": "code",
   "execution_count": 115,
   "metadata": {},
   "outputs": [
    {
     "name": "stdout",
     "output_type": "stream",
     "text": [
      "<class 'pandas.core.frame.DataFrame'>\n",
      "RangeIndex: 205 entries, 0 to 204\n",
      "Data columns (total 25 columns):\n",
      " #   Column            Non-Null Count  Dtype  \n",
      "---  ------            --------------  -----  \n",
      " 0   symboling         205 non-null    int64  \n",
      " 1   CarName           205 non-null    object \n",
      " 2   fueltype          205 non-null    object \n",
      " 3   aspiration        205 non-null    object \n",
      " 4   doornumber        205 non-null    object \n",
      " 5   carbody           205 non-null    object \n",
      " 6   drivewheel        205 non-null    object \n",
      " 7   enginelocation    205 non-null    object \n",
      " 8   wheelbase         205 non-null    float64\n",
      " 9   carlength         205 non-null    float64\n",
      " 10  carwidth          205 non-null    float64\n",
      " 11  carheight         205 non-null    float64\n",
      " 12  curbweight        205 non-null    int64  \n",
      " 13  enginetype        205 non-null    object \n",
      " 14  cylindernumber    205 non-null    object \n",
      " 15  enginesize        205 non-null    int64  \n",
      " 16  fuelsystem        205 non-null    object \n",
      " 17  boreratio         205 non-null    float64\n",
      " 18  stroke            205 non-null    float64\n",
      " 19  compressionratio  205 non-null    float64\n",
      " 20  horsepower        205 non-null    int64  \n",
      " 21  peakrpm           205 non-null    int64  \n",
      " 22  citympg           205 non-null    int64  \n",
      " 23  highwaympg        205 non-null    int64  \n",
      " 24  price             205 non-null    float64\n",
      "dtypes: float64(8), int64(7), object(10)\n",
      "memory usage: 40.2+ KB\n"
     ]
    }
   ],
   "source": [
    "df.info()"
   ]
  },
  {
   "cell_type": "code",
   "execution_count": 116,
   "metadata": {},
   "outputs": [
    {
     "data": {
      "text/html": [
       "<div>\n",
       "<style scoped>\n",
       "    .dataframe tbody tr th:only-of-type {\n",
       "        vertical-align: middle;\n",
       "    }\n",
       "\n",
       "    .dataframe tbody tr th {\n",
       "        vertical-align: top;\n",
       "    }\n",
       "\n",
       "    .dataframe thead th {\n",
       "        text-align: right;\n",
       "    }\n",
       "</style>\n",
       "<table border=\"1\" class=\"dataframe\">\n",
       "  <thead>\n",
       "    <tr style=\"text-align: right;\">\n",
       "      <th></th>\n",
       "      <th>symboling</th>\n",
       "      <th>doornumber</th>\n",
       "      <th>wheelbase</th>\n",
       "      <th>carlength</th>\n",
       "      <th>carwidth</th>\n",
       "      <th>carheight</th>\n",
       "      <th>curbweight</th>\n",
       "      <th>cylindernumber</th>\n",
       "      <th>enginesize</th>\n",
       "      <th>boreratio</th>\n",
       "      <th>...</th>\n",
       "      <th>enginetype_ohcv</th>\n",
       "      <th>enginetype_rotor</th>\n",
       "      <th>fuelsystem_1bbl</th>\n",
       "      <th>fuelsystem_2bbl</th>\n",
       "      <th>fuelsystem_4bbl</th>\n",
       "      <th>fuelsystem_idi</th>\n",
       "      <th>fuelsystem_mfi</th>\n",
       "      <th>fuelsystem_mpfi</th>\n",
       "      <th>fuelsystem_spdi</th>\n",
       "      <th>fuelsystem_spfi</th>\n",
       "    </tr>\n",
       "  </thead>\n",
       "  <tbody>\n",
       "    <tr>\n",
       "      <th>count</th>\n",
       "      <td>205.000000</td>\n",
       "      <td>205.000000</td>\n",
       "      <td>205.000000</td>\n",
       "      <td>205.000000</td>\n",
       "      <td>205.000000</td>\n",
       "      <td>205.000000</td>\n",
       "      <td>205.000000</td>\n",
       "      <td>205.000000</td>\n",
       "      <td>205.000000</td>\n",
       "      <td>205.000000</td>\n",
       "      <td>...</td>\n",
       "      <td>205.000000</td>\n",
       "      <td>205.000000</td>\n",
       "      <td>205.000000</td>\n",
       "      <td>205.000000</td>\n",
       "      <td>205.000000</td>\n",
       "      <td>205.000000</td>\n",
       "      <td>205.000000</td>\n",
       "      <td>205.000000</td>\n",
       "      <td>205.000000</td>\n",
       "      <td>205.000000</td>\n",
       "    </tr>\n",
       "    <tr>\n",
       "      <th>mean</th>\n",
       "      <td>0.834146</td>\n",
       "      <td>3.121951</td>\n",
       "      <td>98.756585</td>\n",
       "      <td>174.049268</td>\n",
       "      <td>65.907805</td>\n",
       "      <td>53.724878</td>\n",
       "      <td>2555.565854</td>\n",
       "      <td>4.380488</td>\n",
       "      <td>126.907317</td>\n",
       "      <td>3.329756</td>\n",
       "      <td>...</td>\n",
       "      <td>0.063415</td>\n",
       "      <td>0.019512</td>\n",
       "      <td>0.053659</td>\n",
       "      <td>0.321951</td>\n",
       "      <td>0.014634</td>\n",
       "      <td>0.097561</td>\n",
       "      <td>0.004878</td>\n",
       "      <td>0.458537</td>\n",
       "      <td>0.043902</td>\n",
       "      <td>0.004878</td>\n",
       "    </tr>\n",
       "    <tr>\n",
       "      <th>std</th>\n",
       "      <td>1.245307</td>\n",
       "      <td>0.994966</td>\n",
       "      <td>6.021776</td>\n",
       "      <td>12.337289</td>\n",
       "      <td>2.145204</td>\n",
       "      <td>2.443522</td>\n",
       "      <td>520.680204</td>\n",
       "      <td>1.080854</td>\n",
       "      <td>41.642693</td>\n",
       "      <td>0.270844</td>\n",
       "      <td>...</td>\n",
       "      <td>0.244304</td>\n",
       "      <td>0.138655</td>\n",
       "      <td>0.225894</td>\n",
       "      <td>0.468368</td>\n",
       "      <td>0.120377</td>\n",
       "      <td>0.297446</td>\n",
       "      <td>0.069843</td>\n",
       "      <td>0.499498</td>\n",
       "      <td>0.205380</td>\n",
       "      <td>0.069843</td>\n",
       "    </tr>\n",
       "    <tr>\n",
       "      <th>min</th>\n",
       "      <td>-2.000000</td>\n",
       "      <td>2.000000</td>\n",
       "      <td>86.600000</td>\n",
       "      <td>141.100000</td>\n",
       "      <td>60.300000</td>\n",
       "      <td>47.800000</td>\n",
       "      <td>1488.000000</td>\n",
       "      <td>2.000000</td>\n",
       "      <td>61.000000</td>\n",
       "      <td>2.540000</td>\n",
       "      <td>...</td>\n",
       "      <td>0.000000</td>\n",
       "      <td>0.000000</td>\n",
       "      <td>0.000000</td>\n",
       "      <td>0.000000</td>\n",
       "      <td>0.000000</td>\n",
       "      <td>0.000000</td>\n",
       "      <td>0.000000</td>\n",
       "      <td>0.000000</td>\n",
       "      <td>0.000000</td>\n",
       "      <td>0.000000</td>\n",
       "    </tr>\n",
       "    <tr>\n",
       "      <th>25%</th>\n",
       "      <td>0.000000</td>\n",
       "      <td>2.000000</td>\n",
       "      <td>94.500000</td>\n",
       "      <td>166.300000</td>\n",
       "      <td>64.100000</td>\n",
       "      <td>52.000000</td>\n",
       "      <td>2145.000000</td>\n",
       "      <td>4.000000</td>\n",
       "      <td>97.000000</td>\n",
       "      <td>3.150000</td>\n",
       "      <td>...</td>\n",
       "      <td>0.000000</td>\n",
       "      <td>0.000000</td>\n",
       "      <td>0.000000</td>\n",
       "      <td>0.000000</td>\n",
       "      <td>0.000000</td>\n",
       "      <td>0.000000</td>\n",
       "      <td>0.000000</td>\n",
       "      <td>0.000000</td>\n",
       "      <td>0.000000</td>\n",
       "      <td>0.000000</td>\n",
       "    </tr>\n",
       "    <tr>\n",
       "      <th>50%</th>\n",
       "      <td>1.000000</td>\n",
       "      <td>4.000000</td>\n",
       "      <td>97.000000</td>\n",
       "      <td>173.200000</td>\n",
       "      <td>65.500000</td>\n",
       "      <td>54.100000</td>\n",
       "      <td>2414.000000</td>\n",
       "      <td>4.000000</td>\n",
       "      <td>120.000000</td>\n",
       "      <td>3.310000</td>\n",
       "      <td>...</td>\n",
       "      <td>0.000000</td>\n",
       "      <td>0.000000</td>\n",
       "      <td>0.000000</td>\n",
       "      <td>0.000000</td>\n",
       "      <td>0.000000</td>\n",
       "      <td>0.000000</td>\n",
       "      <td>0.000000</td>\n",
       "      <td>0.000000</td>\n",
       "      <td>0.000000</td>\n",
       "      <td>0.000000</td>\n",
       "    </tr>\n",
       "    <tr>\n",
       "      <th>75%</th>\n",
       "      <td>2.000000</td>\n",
       "      <td>4.000000</td>\n",
       "      <td>102.400000</td>\n",
       "      <td>183.100000</td>\n",
       "      <td>66.900000</td>\n",
       "      <td>55.500000</td>\n",
       "      <td>2935.000000</td>\n",
       "      <td>4.000000</td>\n",
       "      <td>141.000000</td>\n",
       "      <td>3.580000</td>\n",
       "      <td>...</td>\n",
       "      <td>0.000000</td>\n",
       "      <td>0.000000</td>\n",
       "      <td>0.000000</td>\n",
       "      <td>1.000000</td>\n",
       "      <td>0.000000</td>\n",
       "      <td>0.000000</td>\n",
       "      <td>0.000000</td>\n",
       "      <td>1.000000</td>\n",
       "      <td>0.000000</td>\n",
       "      <td>0.000000</td>\n",
       "    </tr>\n",
       "    <tr>\n",
       "      <th>max</th>\n",
       "      <td>3.000000</td>\n",
       "      <td>4.000000</td>\n",
       "      <td>120.900000</td>\n",
       "      <td>208.100000</td>\n",
       "      <td>72.300000</td>\n",
       "      <td>59.800000</td>\n",
       "      <td>4066.000000</td>\n",
       "      <td>12.000000</td>\n",
       "      <td>326.000000</td>\n",
       "      <td>3.940000</td>\n",
       "      <td>...</td>\n",
       "      <td>1.000000</td>\n",
       "      <td>1.000000</td>\n",
       "      <td>1.000000</td>\n",
       "      <td>1.000000</td>\n",
       "      <td>1.000000</td>\n",
       "      <td>1.000000</td>\n",
       "      <td>1.000000</td>\n",
       "      <td>1.000000</td>\n",
       "      <td>1.000000</td>\n",
       "      <td>1.000000</td>\n",
       "    </tr>\n",
       "  </tbody>\n",
       "</table>\n",
       "<p>8 rows × 192 columns</p>\n",
       "</div>"
      ],
      "text/plain": [
       "        symboling  doornumber   wheelbase   carlength    carwidth   carheight  \\\n",
       "count  205.000000  205.000000  205.000000  205.000000  205.000000  205.000000   \n",
       "mean     0.834146    3.121951   98.756585  174.049268   65.907805   53.724878   \n",
       "std      1.245307    0.994966    6.021776   12.337289    2.145204    2.443522   \n",
       "min     -2.000000    2.000000   86.600000  141.100000   60.300000   47.800000   \n",
       "25%      0.000000    2.000000   94.500000  166.300000   64.100000   52.000000   \n",
       "50%      1.000000    4.000000   97.000000  173.200000   65.500000   54.100000   \n",
       "75%      2.000000    4.000000  102.400000  183.100000   66.900000   55.500000   \n",
       "max      3.000000    4.000000  120.900000  208.100000   72.300000   59.800000   \n",
       "\n",
       "        curbweight  cylindernumber  enginesize   boreratio  ...  \\\n",
       "count   205.000000      205.000000  205.000000  205.000000  ...   \n",
       "mean   2555.565854        4.380488  126.907317    3.329756  ...   \n",
       "std     520.680204        1.080854   41.642693    0.270844  ...   \n",
       "min    1488.000000        2.000000   61.000000    2.540000  ...   \n",
       "25%    2145.000000        4.000000   97.000000    3.150000  ...   \n",
       "50%    2414.000000        4.000000  120.000000    3.310000  ...   \n",
       "75%    2935.000000        4.000000  141.000000    3.580000  ...   \n",
       "max    4066.000000       12.000000  326.000000    3.940000  ...   \n",
       "\n",
       "       enginetype_ohcv  enginetype_rotor  fuelsystem_1bbl  fuelsystem_2bbl  \\\n",
       "count       205.000000        205.000000       205.000000       205.000000   \n",
       "mean          0.063415          0.019512         0.053659         0.321951   \n",
       "std           0.244304          0.138655         0.225894         0.468368   \n",
       "min           0.000000          0.000000         0.000000         0.000000   \n",
       "25%           0.000000          0.000000         0.000000         0.000000   \n",
       "50%           0.000000          0.000000         0.000000         0.000000   \n",
       "75%           0.000000          0.000000         0.000000         1.000000   \n",
       "max           1.000000          1.000000         1.000000         1.000000   \n",
       "\n",
       "       fuelsystem_4bbl  fuelsystem_idi  fuelsystem_mfi  fuelsystem_mpfi  \\\n",
       "count       205.000000      205.000000      205.000000       205.000000   \n",
       "mean          0.014634        0.097561        0.004878         0.458537   \n",
       "std           0.120377        0.297446        0.069843         0.499498   \n",
       "min           0.000000        0.000000        0.000000         0.000000   \n",
       "25%           0.000000        0.000000        0.000000         0.000000   \n",
       "50%           0.000000        0.000000        0.000000         0.000000   \n",
       "75%           0.000000        0.000000        0.000000         1.000000   \n",
       "max           1.000000        1.000000        1.000000         1.000000   \n",
       "\n",
       "       fuelsystem_spdi  fuelsystem_spfi  \n",
       "count       205.000000       205.000000  \n",
       "mean          0.043902         0.004878  \n",
       "std           0.205380         0.069843  \n",
       "min           0.000000         0.000000  \n",
       "25%           0.000000         0.000000  \n",
       "50%           0.000000         0.000000  \n",
       "75%           0.000000         0.000000  \n",
       "max           1.000000         1.000000  \n",
       "\n",
       "[8 rows x 192 columns]"
      ]
     },
     "execution_count": 116,
     "metadata": {},
     "output_type": "execute_result"
    }
   ],
   "source": [
    "dums = pd.get_dummies(df[[\"CarName\" , \"fueltype\" , \"aspiration\" , \"carbody\" , \"drivewheel\" ,\n",
    "                          \"enginelocation\" , \"enginetype\" , \"fuelsystem\" ]])\n",
    "y = df[\"price\"]\n",
    "X_ = df.drop([\"price\" , \"CarName\" , \"fueltype\" , \"aspiration\" , \"carbody\" , \n",
    "              \"drivewheel\" , \"enginelocation\" , \"enginetype\" , \"fuelsystem\"] , axis = 1)\n",
    "X = pd.concat([X_ , dums] , axis = 1)\n",
    "X[\"doornumber\"] = X[\"doornumber\"].replace({\"two\": 2, \"four\": 4})\n",
    "X['cylindernumber'] = X['cylindernumber'].replace({'four' : 4 , 'six' : 6 ,'five' : 5 ,\n",
    "                                                   'three' : 3,'twelve' : 12 , 'two' : 2 ,\n",
    "                                                   'eight' : 8})\n",
    "X.describe()"
   ]
  },
  {
   "cell_type": "code",
   "execution_count": 117,
   "metadata": {},
   "outputs": [
    {
     "data": {
      "text/plain": [
       "count      205.000000\n",
       "mean     13276.710571\n",
       "std       7988.852332\n",
       "min       5118.000000\n",
       "25%       7788.000000\n",
       "50%      10295.000000\n",
       "75%      16503.000000\n",
       "max      45400.000000\n",
       "Name: price, dtype: float64"
      ]
     },
     "execution_count": 117,
     "metadata": {},
     "output_type": "execute_result"
    }
   ],
   "source": [
    "y.describe()"
   ]
  },
  {
   "cell_type": "markdown",
   "metadata": {},
   "source": [
    "# KNN"
   ]
  },
  {
   "cell_type": "code",
   "execution_count": 118,
   "metadata": {},
   "outputs": [],
   "source": [
    "X_train , X_test , y_train , y_test = train_test_split(X , y , test_size = 0.25 , \n",
    "                                                       random_state = 144)\n",
    "knn_model = KNeighborsRegressor().fit(X_train , y_train)"
   ]
  },
  {
   "cell_type": "code",
   "execution_count": 6,
   "metadata": {},
   "outputs": [
    {
     "data": {
      "text/plain": [
       "5"
      ]
     },
     "execution_count": 6,
     "metadata": {},
     "output_type": "execute_result"
    }
   ],
   "source": [
    "knn_model.n_neighbors"
   ]
  },
  {
   "cell_type": "code",
   "execution_count": 7,
   "metadata": {},
   "outputs": [
    {
     "data": {
      "text/plain": [
       "'euclidean'"
      ]
     },
     "execution_count": 7,
     "metadata": {},
     "output_type": "execute_result"
    }
   ],
   "source": [
    "knn_model.effective_metric_"
   ]
  },
  {
   "cell_type": "code",
   "execution_count": 8,
   "metadata": {},
   "outputs": [],
   "source": [
    "y_pred = knn_model.predict(X_test)"
   ]
  },
  {
   "cell_type": "code",
   "execution_count": 9,
   "metadata": {},
   "outputs": [
    {
     "data": {
      "text/plain": [
       "2581.275324725503"
      ]
     },
     "execution_count": 9,
     "metadata": {},
     "output_type": "execute_result"
    }
   ],
   "source": [
    "np.sqrt(mean_squared_error(y_test , y_pred))"
   ]
  },
  {
   "cell_type": "code",
   "execution_count": 10,
   "metadata": {},
   "outputs": [
    {
     "name": "stdout",
     "output_type": "stream",
     "text": [
      "k = 1 için RMSE değeri:  0.0\n",
      "k = 2 için RMSE değeri:  1848.0338536230095\n",
      "k = 3 için RMSE değeri:  2338.754951176145\n",
      "k = 4 için RMSE değeri:  2633.997724303632\n",
      "k = 5 için RMSE değeri:  2891.2482958852725\n",
      "k = 6 için RMSE değeri:  3104.0309593416528\n",
      "k = 7 için RMSE değeri:  3260.259278746216\n",
      "k = 8 için RMSE değeri:  3386.0036089698665\n",
      "k = 9 için RMSE değeri:  3554.0438372173203\n",
      "k = 10 için RMSE değeri:  3676.673051384621\n",
      "k = 11 için RMSE değeri:  3828.6979731778697\n",
      "k = 12 için RMSE değeri:  3932.6507712743637\n",
      "k = 13 için RMSE değeri:  4093.713857200639\n",
      "k = 14 için RMSE değeri:  4274.94399035793\n",
      "k = 15 için RMSE değeri:  4347.44112732371\n",
      "k = 16 için RMSE değeri:  4341.927447386445\n",
      "k = 17 için RMSE değeri:  4413.4033195085485\n",
      "k = 18 için RMSE değeri:  4529.522898749363\n",
      "k = 19 için RMSE değeri:  4538.0829566276225\n",
      "k = 20 için RMSE değeri:  4621.130442881232\n"
     ]
    }
   ],
   "source": [
    "RMSE = [] \n",
    "\n",
    "for k in range(20):\n",
    "    k = k+1\n",
    "    knn_model = KNeighborsRegressor(n_neighbors = k).fit(X_train, y_train)\n",
    "    y_pred = knn_model.predict(X_train) \n",
    "    rmse = np.sqrt(mean_squared_error(y_train,y_pred)) \n",
    "    RMSE.append(rmse) \n",
    "    print(\"k =\" , k , \"için RMSE değeri: \", rmse)"
   ]
  },
  {
   "cell_type": "markdown",
   "metadata": {},
   "source": [
    "## Model Tuning"
   ]
  },
  {
   "cell_type": "code",
   "execution_count": 11,
   "metadata": {},
   "outputs": [],
   "source": [
    "knn_params = {'n_neighbors': np.arange(1,20,1)}"
   ]
  },
  {
   "cell_type": "code",
   "execution_count": 12,
   "metadata": {},
   "outputs": [],
   "source": [
    "knn = KNeighborsRegressor()"
   ]
  },
  {
   "cell_type": "code",
   "execution_count": 13,
   "metadata": {},
   "outputs": [],
   "source": [
    "knn_cv_model = GridSearchCV(knn, knn_params, cv = 10)"
   ]
  },
  {
   "cell_type": "code",
   "execution_count": 14,
   "metadata": {},
   "outputs": [
    {
     "data": {
      "text/plain": [
       "GridSearchCV(cv=10, estimator=KNeighborsRegressor(),\n",
       "             param_grid={'n_neighbors': array([ 1,  2,  3,  4,  5,  6,  7,  8,  9, 10, 11, 12, 13, 14, 15, 16, 17,\n",
       "       18, 19])})"
      ]
     },
     "execution_count": 14,
     "metadata": {},
     "output_type": "execute_result"
    }
   ],
   "source": [
    "knn_cv_model.fit(X_train, y_train)"
   ]
  },
  {
   "cell_type": "code",
   "execution_count": 15,
   "metadata": {},
   "outputs": [
    {
     "name": "stdout",
     "output_type": "stream",
     "text": [
      "Best parameters:  {'n_neighbors': 3}\n"
     ]
    }
   ],
   "source": [
    "print(\"Best parameters: \", knn_cv_model.best_params_)"
   ]
  },
  {
   "cell_type": "code",
   "execution_count": 16,
   "metadata": {},
   "outputs": [
    {
     "name": "stdout",
     "output_type": "stream",
     "text": [
      "k = 1 için RMSE değeri:  0.0 RMSE_CV değeri:  3933.32860206195\n",
      "k = 2 için RMSE değeri:  1848.0338536230095 RMSE_CV değeri:  3494.5538779044828\n",
      "k = 3 için RMSE değeri:  2338.754951176145 RMSE_CV değeri:  3484.171937785813\n",
      "k = 4 için RMSE değeri:  2633.997724303632 RMSE_CV değeri:  3615.333390004152\n",
      "k = 5 için RMSE değeri:  2891.2482958852725 RMSE_CV değeri:  3688.6346664240273\n",
      "k = 6 için RMSE değeri:  3104.0309593416528 RMSE_CV değeri:  3751.886433288059\n",
      "k = 7 için RMSE değeri:  3260.259278746216 RMSE_CV değeri:  3834.3815950957483\n",
      "k = 8 için RMSE değeri:  3386.0036089698665 RMSE_CV değeri:  3964.831910000935\n",
      "k = 9 için RMSE değeri:  3554.0438372173203 RMSE_CV değeri:  4120.569303004406\n",
      "k = 10 için RMSE değeri:  3676.673051384621 RMSE_CV değeri:  4274.537947610628\n",
      "k = 11 için RMSE değeri:  3828.6979731778697 RMSE_CV değeri:  4392.230553097674\n",
      "k = 12 için RMSE değeri:  3932.6507712743637 RMSE_CV değeri:  4538.529007690019\n",
      "k = 13 için RMSE değeri:  4093.713857200639 RMSE_CV değeri:  4600.6940008581305\n",
      "k = 14 için RMSE değeri:  4274.94399035793 RMSE_CV değeri:  4611.312031015112\n",
      "k = 15 için RMSE değeri:  4347.44112732371 RMSE_CV değeri:  4676.654836593976\n",
      "k = 16 için RMSE değeri:  4341.927447386445 RMSE_CV değeri:  4763.944888073809\n",
      "k = 17 için RMSE değeri:  4413.4033195085485 RMSE_CV değeri:  4810.739004314404\n",
      "k = 18 için RMSE değeri:  4529.522898749363 RMSE_CV değeri:  4870.980619932407\n",
      "k = 19 için RMSE değeri:  4538.0829566276225 RMSE_CV değeri:  4943.306142655513\n",
      "k = 20 için RMSE değeri:  4621.130442881232 RMSE_CV değeri:  4998.008481562924\n"
     ]
    }
   ],
   "source": [
    "RMSE = [] \n",
    "RMSE_CV = []\n",
    "for k in range(20):\n",
    "    k = k+1\n",
    "    knn_model = KNeighborsRegressor(n_neighbors = k).fit(X_train, y_train)\n",
    "    y_pred = knn_model.predict(X_train) \n",
    "    rmse = np.sqrt(mean_squared_error(y_train,y_pred)) \n",
    "    rmse_cv = np.sqrt(-1*cross_val_score(knn_model, X_train, y_train, cv=10, \n",
    "                                         scoring = \"neg_mean_squared_error\").mean())\n",
    "    RMSE.append(rmse) \n",
    "    RMSE_CV.append(rmse_cv)\n",
    "    print(\"k =\" , k , \"için RMSE değeri: \", rmse, \"RMSE_CV değeri: \", rmse_cv )"
   ]
  },
  {
   "cell_type": "code",
   "execution_count": 17,
   "metadata": {},
   "outputs": [],
   "source": [
    "knn_tuned = KNeighborsRegressor(n_neighbors = knn_cv_model.best_params_[\"n_neighbors\"])"
   ]
  },
  {
   "cell_type": "code",
   "execution_count": 18,
   "metadata": {},
   "outputs": [
    {
     "data": {
      "text/plain": [
       "KNeighborsRegressor(n_neighbors=3)"
      ]
     },
     "execution_count": 18,
     "metadata": {},
     "output_type": "execute_result"
    }
   ],
   "source": [
    "knn_tuned.fit(X_train, y_train)"
   ]
  },
  {
   "cell_type": "code",
   "execution_count": 19,
   "metadata": {},
   "outputs": [
    {
     "data": {
      "text/plain": [
       "2451.130007555685"
      ]
     },
     "execution_count": 19,
     "metadata": {},
     "output_type": "execute_result"
    }
   ],
   "source": [
    "np.sqrt(mean_squared_error(y_test, knn_tuned.predict(X_test)))"
   ]
  },
  {
   "cell_type": "markdown",
   "metadata": {},
   "source": [
    "# SVR"
   ]
  },
  {
   "cell_type": "code",
   "execution_count": 20,
   "metadata": {},
   "outputs": [],
   "source": [
    "from sklearn.svm import SVR"
   ]
  },
  {
   "cell_type": "code",
   "execution_count": 21,
   "metadata": {},
   "outputs": [],
   "source": [
    "svr_model = SVR(\"rbf\").fit(X_train , y_train)"
   ]
  },
  {
   "cell_type": "code",
   "execution_count": 22,
   "metadata": {},
   "outputs": [],
   "source": [
    "y_pred = svr_model.predict(X_test)"
   ]
  },
  {
   "cell_type": "code",
   "execution_count": 23,
   "metadata": {},
   "outputs": [
    {
     "data": {
      "text/plain": [
       "7005.097288178883"
      ]
     },
     "execution_count": 23,
     "metadata": {},
     "output_type": "execute_result"
    }
   ],
   "source": [
    "np.sqrt(mean_squared_error(y_test , y_pred))"
   ]
  },
  {
   "cell_type": "markdown",
   "metadata": {},
   "source": [
    "## Model Tuning"
   ]
  },
  {
   "cell_type": "code",
   "execution_count": 24,
   "metadata": {},
   "outputs": [
    {
     "data": {
      "text/plain": [
       "GridSearchCV(cv=10, estimator=SVR(),\n",
       "             param_grid={'C': [0.01, 0.1, 0.4, 5, 10, 20, 30, 40, 50]})"
      ]
     },
     "execution_count": 24,
     "metadata": {},
     "output_type": "execute_result"
    }
   ],
   "source": [
    "svr_params = {\"C\" : [0.01 , 0.1 , 0.4 , 5 , 10 , 20 , 30 , 40, 50]}\n",
    "svr_cv_model = GridSearchCV(svr_model , svr_params , cv = 10)\n",
    "svr_cv_model.fit(X_train , y_train)"
   ]
  },
  {
   "cell_type": "code",
   "execution_count": 25,
   "metadata": {},
   "outputs": [
    {
     "data": {
      "text/plain": [
       "50"
      ]
     },
     "execution_count": 25,
     "metadata": {},
     "output_type": "execute_result"
    }
   ],
   "source": [
    "pd.Series(svr_cv_model.best_params_)[0]"
   ]
  },
  {
   "cell_type": "code",
   "execution_count": 26,
   "metadata": {},
   "outputs": [],
   "source": [
    "svr_tuned = SVR(\"rbf\" , C = pd.Series(svr_cv_model.best_params_)[0]).fit(X_train , y_train)"
   ]
  },
  {
   "cell_type": "code",
   "execution_count": 27,
   "metadata": {},
   "outputs": [],
   "source": [
    "y_pred = svr_tuned.predict(X_test)"
   ]
  },
  {
   "cell_type": "code",
   "execution_count": 28,
   "metadata": {},
   "outputs": [
    {
     "data": {
      "text/plain": [
       "6935.648036872986"
      ]
     },
     "execution_count": 28,
     "metadata": {},
     "output_type": "execute_result"
    }
   ],
   "source": [
    "np.sqrt(mean_squared_error(y_test , y_pred))"
   ]
  },
  {
   "cell_type": "markdown",
   "metadata": {},
   "source": [
    "# Neural Networks"
   ]
  },
  {
   "cell_type": "code",
   "execution_count": 29,
   "metadata": {},
   "outputs": [
    {
     "data": {
      "text/plain": [
       "StandardScaler()"
      ]
     },
     "execution_count": 29,
     "metadata": {},
     "output_type": "execute_result"
    }
   ],
   "source": [
    "from sklearn.preprocessing import StandardScaler\n",
    "scaler = StandardScaler()\n",
    "scaler.fit(X_train)"
   ]
  },
  {
   "cell_type": "code",
   "execution_count": 30,
   "metadata": {},
   "outputs": [],
   "source": [
    "X_train_scaled = scaler.transform(X_train)\n",
    "X_test_scaled = scaler.transform(X_test)"
   ]
  },
  {
   "cell_type": "code",
   "execution_count": 31,
   "metadata": {},
   "outputs": [],
   "source": [
    "from sklearn.neural_network import MLPRegressor"
   ]
  },
  {
   "cell_type": "code",
   "execution_count": 32,
   "metadata": {},
   "outputs": [],
   "source": [
    "mlp_model = MLPRegressor(hidden_layer_sizes = (100,20)).fit(X_train_scaled , y_train )"
   ]
  },
  {
   "cell_type": "code",
   "execution_count": 33,
   "metadata": {},
   "outputs": [],
   "source": [
    "y_pred = mlp_model.predict(X_test_scaled)"
   ]
  },
  {
   "cell_type": "code",
   "execution_count": 34,
   "metadata": {},
   "outputs": [
    {
     "data": {
      "text/plain": [
       "13198.230300322171"
      ]
     },
     "execution_count": 34,
     "metadata": {},
     "output_type": "execute_result"
    }
   ],
   "source": [
    "np.sqrt(mean_squared_error(y_test , y_pred))"
   ]
  },
  {
   "cell_type": "markdown",
   "metadata": {},
   "source": [
    "## Model Tuning"
   ]
  },
  {
   "cell_type": "code",
   "execution_count": 35,
   "metadata": {},
   "outputs": [
    {
     "data": {
      "text/plain": [
       "MLPRegressor(hidden_layer_sizes=(100, 20))"
      ]
     },
     "execution_count": 35,
     "metadata": {},
     "output_type": "execute_result"
    }
   ],
   "source": [
    "mlp_model"
   ]
  },
  {
   "cell_type": "code",
   "execution_count": 36,
   "metadata": {},
   "outputs": [],
   "source": [
    "mlp_params = {'alpha': [0.1, 0.01,0.02,0.005],\n",
    "             'hidden_layer_sizes': [(20,20),(100,50,150),(300,200,150)],\n",
    "             'activation': ['relu','logistic']}"
   ]
  },
  {
   "cell_type": "code",
   "execution_count": 37,
   "metadata": {},
   "outputs": [],
   "source": [
    "mlp_cv_model = GridSearchCV(mlp_model , mlp_params , cv = 10 , n_jobs = -1)"
   ]
  },
  {
   "cell_type": "code",
   "execution_count": 38,
   "metadata": {},
   "outputs": [
    {
     "data": {
      "text/plain": [
       "GridSearchCV(cv=10, estimator=MLPRegressor(hidden_layer_sizes=(100, 20)),\n",
       "             n_jobs=-1,\n",
       "             param_grid={'activation': ['relu', 'logistic'],\n",
       "                         'alpha': [0.1, 0.01, 0.02, 0.005],\n",
       "                         'hidden_layer_sizes': [(20, 20), (100, 50, 150),\n",
       "                                                (300, 200, 150)]})"
      ]
     },
     "execution_count": 38,
     "metadata": {},
     "output_type": "execute_result"
    }
   ],
   "source": [
    "mlp_cv_model.fit(X_train_scaled , y_train)"
   ]
  },
  {
   "cell_type": "code",
   "execution_count": 39,
   "metadata": {},
   "outputs": [
    {
     "data": {
      "text/plain": [
       "{'activation': 'relu', 'alpha': 0.01, 'hidden_layer_sizes': (300, 200, 150)}"
      ]
     },
     "execution_count": 39,
     "metadata": {},
     "output_type": "execute_result"
    }
   ],
   "source": [
    "mlp_cv_model.best_params_"
   ]
  },
  {
   "cell_type": "code",
   "execution_count": 40,
   "metadata": {},
   "outputs": [],
   "source": [
    "mlp_tuned = MLPRegressor(alpha = 0.01 , hidden_layer_sizes = (300, 200, 150) , activation = 'relu')"
   ]
  },
  {
   "cell_type": "code",
   "execution_count": 41,
   "metadata": {},
   "outputs": [
    {
     "data": {
      "text/plain": [
       "MLPRegressor(alpha=0.01, hidden_layer_sizes=(300, 200, 150))"
      ]
     },
     "execution_count": 41,
     "metadata": {},
     "output_type": "execute_result"
    }
   ],
   "source": [
    "mlp_tuned.fit(X_train_scaled , y_train)"
   ]
  },
  {
   "cell_type": "code",
   "execution_count": 42,
   "metadata": {},
   "outputs": [],
   "source": [
    "y_pred = mlp_tuned.predict(X_test_scaled)"
   ]
  },
  {
   "cell_type": "code",
   "execution_count": 43,
   "metadata": {},
   "outputs": [
    {
     "data": {
      "text/plain": [
       "3801.8644192839993"
      ]
     },
     "execution_count": 43,
     "metadata": {},
     "output_type": "execute_result"
    }
   ],
   "source": [
    "np.sqrt(mean_squared_error(y_test , y_pred))"
   ]
  },
  {
   "cell_type": "markdown",
   "metadata": {},
   "source": [
    "# CART"
   ]
  },
  {
   "cell_type": "code",
   "execution_count": 46,
   "metadata": {},
   "outputs": [],
   "source": [
    "cart_model = DecisionTreeRegressor()"
   ]
  },
  {
   "cell_type": "code",
   "execution_count": 47,
   "metadata": {},
   "outputs": [
    {
     "data": {
      "text/plain": [
       "DecisionTreeRegressor()"
      ]
     },
     "execution_count": 47,
     "metadata": {},
     "output_type": "execute_result"
    }
   ],
   "source": [
    "cart_model.fit(X_train , y_train)"
   ]
  },
  {
   "cell_type": "code",
   "execution_count": 50,
   "metadata": {
    "collapsed": true,
    "jupyter": {
     "outputs_hidden": true
    }
   },
   "outputs": [
    {
     "name": "stdout",
     "output_type": "stream",
     "text": [
      "Collecting skompiler\n",
      "  Downloading SKompiler-0.7.tar.gz (45 kB)\n",
      "Requirement already satisfied: scikit-learn>=0.22 in c:\\users\\karacik\\anaconda3\\lib\\site-packages (from skompiler) (0.23.1)\n",
      "Requirement already satisfied: scipy>=0.19.1 in c:\\users\\karacik\\anaconda3\\lib\\site-packages (from scikit-learn>=0.22->skompiler) (1.5.0)\n",
      "Requirement already satisfied: joblib>=0.11 in c:\\users\\karacik\\anaconda3\\lib\\site-packages (from scikit-learn>=0.22->skompiler) (0.16.0)\n",
      "Requirement already satisfied: threadpoolctl>=2.0.0 in c:\\users\\karacik\\anaconda3\\lib\\site-packages (from scikit-learn>=0.22->skompiler) (2.1.0)\n",
      "Requirement already satisfied: numpy>=1.13.3 in c:\\users\\karacik\\anaconda3\\lib\\site-packages (from scikit-learn>=0.22->skompiler) (1.18.5)\n",
      "Building wheels for collected packages: skompiler\n",
      "  Building wheel for skompiler (setup.py): started\n",
      "  Building wheel for skompiler (setup.py): finished with status 'done'\n",
      "  Created wheel for skompiler: filename=SKompiler-0.7-py3-none-any.whl size=54316 sha256=478a52624c23a17d70482387588103a76e4f9cbcb3a913ce2fd395b99549fbb9\n",
      "  Stored in directory: c:\\users\\karacik\\appdata\\local\\pip\\cache\\wheels\\eb\\73\\c6\\cf0fc98d965e01e8bb3b1923d1e6a57374645d5d055f00e898\n",
      "Successfully built skompiler\n",
      "Installing collected packages: skompiler\n",
      "Successfully installed skompiler-0.7\n"
     ]
    }
   ],
   "source": [
    "!pip install skompiler"
   ]
  },
  {
   "cell_type": "code",
   "execution_count": 53,
   "metadata": {
    "collapsed": true,
    "jupyter": {
     "outputs_hidden": true
    }
   },
   "outputs": [
    {
     "name": "stdout",
     "output_type": "stream",
     "text": [
      "Collecting astor\n",
      "  Downloading astor-0.8.1-py2.py3-none-any.whl (27 kB)\n",
      "Installing collected packages: astor\n",
      "Successfully installed astor-0.8.1\n"
     ]
    }
   ],
   "source": [
    "!pip install astor"
   ]
  },
  {
   "cell_type": "code",
   "execution_count": 51,
   "metadata": {},
   "outputs": [],
   "source": [
    "from skompiler import skompile"
   ]
  },
  {
   "cell_type": "code",
   "execution_count": 54,
   "metadata": {
    "collapsed": true,
    "jupyter": {
     "outputs_hidden": true
    }
   },
   "outputs": [
    {
     "name": "stdout",
     "output_type": "stream",
     "text": [
      "(((((((((((6488.0 if x[6] <= 2027.5 else 6338.0) if x[4] <= \n",
      "    63.69999885559082 else 6377.0 if x[6] <= 1890.5 else ((6695.0 if x[11] <=\n",
      "    9.199999809265137 else 6692.0) if x[84] <= 0.5 else 6669.0) if x[77] <=\n",
      "    0.5 else 6795.0) if x[9] <= 3.0649999380111694 else 7395.0) if x[44] <=\n",
      "    0.5 else 7609.0) if x[15] <= 39.5 else ((5399.0 if x[9] <= \n",
      "    2.940000057220459 else 5572.0) if x[14] <= 42.5 else 5151.0) if x[10] <=\n",
      "    3.3200000524520874 else 6479.0) if x[12] <= 68.5 else 8916.5 if x[8] <=\n",
      "    91.0 else ((((6855.0 if x[6] <= 1878.5 else 6849.0) if x[97] <= 0.5 else\n",
      "    6649.0) if x[53] <= 0.5 else 6529.0) if x[16] <= 0.5 else 5499.0) if x[\n",
      "    6] <= 1945.5 else (((7198.0 if x[10] <= 3.2200000286102295 else 7129.0) if\n",
      "    x[5] <= 52.89999961853027 else 6938.0 if x[169] <= 0.5 else 7053.0) if \n",
      "    x[2] <= 96.0999984741211 else 7295.0) if x[14] <= 30.5 else 8249.0 if x\n",
      "    [3] <= 163.8499984741211 else ((7299.0 if x[6] <= 1987.5 else 7349.0) if\n",
      "    x[92] <= 0.5 else 7499.0) if x[6] <= 2026.0 else (7799.0 if x[136] <= \n",
      "    0.5 else 7738.0) if x[171] <= 0.5 else 7999.0) if x[6] <= 2121.0 else (\n",
      "    ((7126.0 if x[6] <= 2167.5 else 7775.0 if x[5] <= 52.75 else 7463.0 if \n",
      "    x[172] <= 0.5 else 7603.0) if x[10] <= 2.8350000381469727 else (7609.0 if\n",
      "    x[15] <= 42.0 else 7775.0 if x[12] <= 54.0 else 7788.0) if x[12] <= \n",
      "    69.0 else ((8558.0 if x[3] <= 161.8000030517578 else 8358.0) if x[3] <=\n",
      "    166.9000015258789 else ((8238.0 if x[0] <= 1.5 else 8195.0) if x[134] <=\n",
      "    0.5 else 8058.0) if x[184] <= 0.5 else 7895.0) if x[190] <= 0.5 else \n",
      "    7957.0 if x[6] <= 2136.5 else 7689.0) if x[57] <= 0.5 else 9095.0) if x\n",
      "    [141] <= 0.5 else 9258.0) if x[0] <= 2.5 else 9980.0 if x[6] <= 2237.5 else\n",
      "    11595.0) if x[6] <= 2291.5 else (((11845.0 if x[69] <= 0.5 else 10945.0\n",
      "    ) if x[6] <= 2440.0 else (15250.0 if x[12] <= 122.5 else 15645.0) if x[\n",
      "    14] <= 20.0 else 13495.0 if x[3] <= 177.70000457763672 else 11850.0) if\n",
      "    x[14] <= 22.0 else ((6785.0 if x[4] <= 62.14999961853027 else ((((((((\n",
      "    10345.0 if x[6] <= 2316.5 else ((9959.0 if x[170] <= 0.5 else 9960.0) if\n",
      "    x[10] <= 3.4800000190734863 else 9989.0) if x[4] <= 66.0999984741211 else\n",
      "    9895.0) if x[84] <= 0.5 else 9279.0) if x[5] <= 52.54999923706055 else \n",
      "    10295.0 if x[4] <= 63.25 else (9538.0 if x[2] <= 95.29999923706055 else\n",
      "    9295.0 if x[185] <= 0.5 else 9233.0) if x[15] <= 31.5 else 8845.0 if x[\n",
      "    15] <= 33.5 else 8949.0) if x[5] <= 55.35000038146973 else 11245.0 if x\n",
      "    [11] <= 9.300000190734863 else 9495.0 if x[164] <= 0.5 else 9995.0) if \n",
      "    x[168] <= 0.5 else 8449.0) if x[85] <= 0.5 else 8189.0) if x[123] <= \n",
      "    0.5 else 8013.0) if x[125] <= 0.5 else 11259.0) if x[83] <= 0.5 else \n",
      "    6989.0) if x[55] <= 0.5 else 12945.0) if x[2] <= 99.30000305175781 else\n",
      "    (12290.0 if x[170] <= 0.5 else 13950.0 if x[166] <= 0.5 else 13845.0) if\n",
      "    x[10] <= 3.430000066757202 else ((11248.0 if x[170] <= 0.5 else 10898.0\n",
      "    ) if x[136] <= 0.5 else 9988.0) if x[5] <= 57.35000038146973 else \n",
      "    8921.0) if x[26] <= 0.5 else 16430.0 if x[1] <= 3.0 else 16925.0) if x[\n",
      "    6] <= 2659.5 else (((11048.0 if x[128] <= 0.5 else 8778.0) if x[8] <= \n",
      "    120.0 else ((16500.0 if x[173] <= 0.5 else 15040.0) if x[9] <= \n",
      "    2.9350000619888306 else (15510.0 if x[8] <= 128.5 else ((12964.0 if x[\n",
      "    150] <= 0.5 else 13295.0) if x[6] <= 2822.0 else 12629.0) if x[6] <= \n",
      "    2877.0 else ((14489.0 if x[13] <= 5100.0 else 14399.0) if x[79] <= 0.5 else\n",
      "    14869.0) if x[15] <= 24.5 else 13499.0) if x[174] <= 0.5 else 12764.0 if\n",
      "    x[15] <= 27.0 else 11549.0) if x[140] <= 0.5 else 17669.0) if x[4] <= \n",
      "    67.4000015258789 else (((17859.167 if x[182] <= 0.5 else 18399.0) if x[\n",
      "    0] <= 2.0 else 17199.0) if x[12] <= 180.0 else 19699.0) if x[11] <= \n",
      "    9.25 else 22018.0) if x[2] <= 100.79999923706055 else ((21485.0 if x[9] <=\n",
      "    3.59499990940094 else 18150.0) if x[14] <= 18.5 else ((((15750.0 if x[\n",
      "    169] <= 0.5 else 15998.0) if x[14] <= 19.5 else 17075.0 if x[8] <= \n",
      "    161.5 else 16558.0) if x[101] <= 0.5 else 11900.0 if x[6] <= 3047.5 else\n",
      "    (16695.0 if x[12] <= 96.0 else 16630.0) if x[5] <= 57.70000076293945 else\n",
      "    13860.0) if x[14] <= 26.5 else 17950.0 if x[104] <= 0.5 else 16900.0) if\n",
      "    x[100] <= 0.5 else 13200.0) if x[180] <= 0.5 else ((((18920.0 if x[5] <=\n",
      "    56.60000038146973 else 18950.0) if x[170] <= 0.5 else 17710.0 if x[174] <=\n",
      "    0.5 else 18280.0 if x[15] <= 33.0 else 18344.0) if x[8] <= 140.5 else \n",
      "    16845.0 if x[157] <= 0.5 else 16515.0) if x[159] <= 0.5 else 22625.0) if\n",
      "    x[8] <= 143.0 else ((20970.0 if x[1] <= 3.0 else 21105.0) if x[13] <= \n",
      "    4525.0 else 22470.0) if x[3] <= 188.9000015258789 else 24565.0) if x[8] <=\n",
      "    182.0 else (((28176.0 if x[171] <= 0.5 else 28248.0) if x[35] <= 0.5 else\n",
      "    25552.0) if x[3] <= 196.75 else 31600.0) if x[8] <= 188.5 else 45400.0 if\n",
      "    x[15] <= 16.5 else (((34028.0 if x[111] <= 0.5 else 32528.0) if x[6] <=\n",
      "    2778.0 else (36000.0 if x[167] <= 0.5 else 37028.0) if x[10] <= 3.0 else\n",
      "    35056.0 if x[5] <= 53.64999961853027 else 34184.0) if x[10] <= \n",
      "    3.1049998998641968 else ((30760.0 if x[0] <= 0.5 else 31400.5) if x[3] <=\n",
      "    194.3000030517578 else 32250.0) if x[64] <= 0.5 else 35550.0) if x[30] <=\n",
      "    0.5 else 41315.0)\n",
      "\n"
     ]
    }
   ],
   "source": [
    "print(skompile(cart_model.predict).to('python/code'))"
   ]
  },
  {
   "cell_type": "code",
   "execution_count": 56,
   "metadata": {},
   "outputs": [
    {
     "data": {
      "text/plain": [
       "array([15645., 11850.,  9233., 17950., 15040.])"
      ]
     },
     "execution_count": 56,
     "metadata": {},
     "output_type": "execute_result"
    }
   ],
   "source": [
    "cart_model.predict(X_train)[0:5]"
   ]
  },
  {
   "cell_type": "code",
   "execution_count": 59,
   "metadata": {},
   "outputs": [
    {
     "data": {
      "text/plain": [
       "136    18150.0\n",
       "23      7957.0\n",
       "75     16503.0\n",
       "57     13645.0\n",
       "195    13415.0\n",
       "Name: price, dtype: float64"
      ]
     },
     "execution_count": 59,
     "metadata": {},
     "output_type": "execute_result"
    }
   ],
   "source": [
    "y_test[0:5]"
   ]
  },
  {
   "cell_type": "code",
   "execution_count": 62,
   "metadata": {},
   "outputs": [],
   "source": [
    "y_pred = cart_model.predict(X_test)"
   ]
  },
  {
   "cell_type": "code",
   "execution_count": 63,
   "metadata": {},
   "outputs": [
    {
     "data": {
      "text/plain": [
       "2348.723255875904"
      ]
     },
     "execution_count": 63,
     "metadata": {},
     "output_type": "execute_result"
    }
   ],
   "source": [
    "np.sqrt(mean_squared_error(y_test , y_pred))"
   ]
  },
  {
   "cell_type": "markdown",
   "metadata": {},
   "source": [
    "# Model Tuning"
   ]
  },
  {
   "cell_type": "code",
   "execution_count": 65,
   "metadata": {
    "collapsed": true,
    "jupyter": {
     "outputs_hidden": true
    }
   },
   "outputs": [
    {
     "data": {
      "text/plain": [
       "\u001b[1;31mType:\u001b[0m        DecisionTreeRegressor\n",
       "\u001b[1;31mString form:\u001b[0m DecisionTreeRegressor()\n",
       "\u001b[1;31mFile:\u001b[0m        c:\\users\\karacik\\anaconda3\\lib\\site-packages\\sklearn\\tree\\_classes.py\n",
       "\u001b[1;31mDocstring:\u001b[0m  \n",
       "A decision tree regressor.\n",
       "\n",
       "Read more in the :ref:`User Guide <tree>`.\n",
       "\n",
       "Parameters\n",
       "----------\n",
       "criterion : {\"mse\", \"friedman_mse\", \"mae\"}, default=\"mse\"\n",
       "    The function to measure the quality of a split. Supported criteria\n",
       "    are \"mse\" for the mean squared error, which is equal to variance\n",
       "    reduction as feature selection criterion and minimizes the L2 loss\n",
       "    using the mean of each terminal node, \"friedman_mse\", which uses mean\n",
       "    squared error with Friedman's improvement score for potential splits,\n",
       "    and \"mae\" for the mean absolute error, which minimizes the L1 loss\n",
       "    using the median of each terminal node.\n",
       "\n",
       "    .. versionadded:: 0.18\n",
       "       Mean Absolute Error (MAE) criterion.\n",
       "\n",
       "splitter : {\"best\", \"random\"}, default=\"best\"\n",
       "    The strategy used to choose the split at each node. Supported\n",
       "    strategies are \"best\" to choose the best split and \"random\" to choose\n",
       "    the best random split.\n",
       "\n",
       "max_depth : int, default=None\n",
       "    The maximum depth of the tree. If None, then nodes are expanded until\n",
       "    all leaves are pure or until all leaves contain less than\n",
       "    min_samples_split samples.\n",
       "\n",
       "min_samples_split : int or float, default=2\n",
       "    The minimum number of samples required to split an internal node:\n",
       "\n",
       "    - If int, then consider `min_samples_split` as the minimum number.\n",
       "    - If float, then `min_samples_split` is a fraction and\n",
       "      `ceil(min_samples_split * n_samples)` are the minimum\n",
       "      number of samples for each split.\n",
       "\n",
       "    .. versionchanged:: 0.18\n",
       "       Added float values for fractions.\n",
       "\n",
       "min_samples_leaf : int or float, default=1\n",
       "    The minimum number of samples required to be at a leaf node.\n",
       "    A split point at any depth will only be considered if it leaves at\n",
       "    least ``min_samples_leaf`` training samples in each of the left and\n",
       "    right branches.  This may have the effect of smoothing the model,\n",
       "    especially in regression.\n",
       "\n",
       "    - If int, then consider `min_samples_leaf` as the minimum number.\n",
       "    - If float, then `min_samples_leaf` is a fraction and\n",
       "      `ceil(min_samples_leaf * n_samples)` are the minimum\n",
       "      number of samples for each node.\n",
       "\n",
       "    .. versionchanged:: 0.18\n",
       "       Added float values for fractions.\n",
       "\n",
       "min_weight_fraction_leaf : float, default=0.0\n",
       "    The minimum weighted fraction of the sum total of weights (of all\n",
       "    the input samples) required to be at a leaf node. Samples have\n",
       "    equal weight when sample_weight is not provided.\n",
       "\n",
       "max_features : int, float or {\"auto\", \"sqrt\", \"log2\"}, default=None\n",
       "    The number of features to consider when looking for the best split:\n",
       "\n",
       "    - If int, then consider `max_features` features at each split.\n",
       "    - If float, then `max_features` is a fraction and\n",
       "      `int(max_features * n_features)` features are considered at each\n",
       "      split.\n",
       "    - If \"auto\", then `max_features=n_features`.\n",
       "    - If \"sqrt\", then `max_features=sqrt(n_features)`.\n",
       "    - If \"log2\", then `max_features=log2(n_features)`.\n",
       "    - If None, then `max_features=n_features`.\n",
       "\n",
       "    Note: the search for a split does not stop until at least one\n",
       "    valid partition of the node samples is found, even if it requires to\n",
       "    effectively inspect more than ``max_features`` features.\n",
       "\n",
       "random_state : int, RandomState instance, default=None\n",
       "    Controls the randomness of the estimator. The features are always\n",
       "    randomly permuted at each split, even if ``splitter`` is set to\n",
       "    ``\"best\"``. When ``max_features < n_features``, the algorithm will\n",
       "    select ``max_features`` at random at each split before finding the best\n",
       "    split among them. But the best found split may vary across different\n",
       "    runs, even if ``max_features=n_features``. That is the case, if the\n",
       "    improvement of the criterion is identical for several splits and one\n",
       "    split has to be selected at random. To obtain a deterministic behaviour\n",
       "    during fitting, ``random_state`` has to be fixed to an integer.\n",
       "    See :term:`Glossary <random_state>` for details.\n",
       "\n",
       "max_leaf_nodes : int, default=None\n",
       "    Grow a tree with ``max_leaf_nodes`` in best-first fashion.\n",
       "    Best nodes are defined as relative reduction in impurity.\n",
       "    If None then unlimited number of leaf nodes.\n",
       "\n",
       "min_impurity_decrease : float, default=0.0\n",
       "    A node will be split if this split induces a decrease of the impurity\n",
       "    greater than or equal to this value.\n",
       "\n",
       "    The weighted impurity decrease equation is the following::\n",
       "\n",
       "        N_t / N * (impurity - N_t_R / N_t * right_impurity\n",
       "                            - N_t_L / N_t * left_impurity)\n",
       "\n",
       "    where ``N`` is the total number of samples, ``N_t`` is the number of\n",
       "    samples at the current node, ``N_t_L`` is the number of samples in the\n",
       "    left child, and ``N_t_R`` is the number of samples in the right child.\n",
       "\n",
       "    ``N``, ``N_t``, ``N_t_R`` and ``N_t_L`` all refer to the weighted sum,\n",
       "    if ``sample_weight`` is passed.\n",
       "\n",
       "    .. versionadded:: 0.19\n",
       "\n",
       "min_impurity_split : float, (default=0)\n",
       "    Threshold for early stopping in tree growth. A node will split\n",
       "    if its impurity is above the threshold, otherwise it is a leaf.\n",
       "\n",
       "    .. deprecated:: 0.19\n",
       "       ``min_impurity_split`` has been deprecated in favor of\n",
       "       ``min_impurity_decrease`` in 0.19. The default value of\n",
       "       ``min_impurity_split`` has changed from 1e-7 to 0 in 0.23 and it\n",
       "       will be removed in 0.25. Use ``min_impurity_decrease`` instead.\n",
       "\n",
       "presort : deprecated, default='deprecated'\n",
       "    This parameter is deprecated and will be removed in v0.24.\n",
       "\n",
       "    .. deprecated:: 0.22\n",
       "\n",
       "ccp_alpha : non-negative float, default=0.0\n",
       "    Complexity parameter used for Minimal Cost-Complexity Pruning. The\n",
       "    subtree with the largest cost complexity that is smaller than\n",
       "    ``ccp_alpha`` will be chosen. By default, no pruning is performed. See\n",
       "    :ref:`minimal_cost_complexity_pruning` for details.\n",
       "\n",
       "    .. versionadded:: 0.22\n",
       "\n",
       "Attributes\n",
       "----------\n",
       "feature_importances_ : ndarray of shape (n_features,)\n",
       "    The feature importances.\n",
       "    The higher, the more important the feature.\n",
       "    The importance of a feature is computed as the\n",
       "    (normalized) total reduction of the criterion brought\n",
       "    by that feature. It is also known as the Gini importance [4]_.\n",
       "\n",
       "    Warning: impurity-based feature importances can be misleading for\n",
       "    high cardinality features (many unique values). See\n",
       "    :func:`sklearn.inspection.permutation_importance` as an alternative.\n",
       "\n",
       "max_features_ : int\n",
       "    The inferred value of max_features.\n",
       "\n",
       "n_features_ : int\n",
       "    The number of features when ``fit`` is performed.\n",
       "\n",
       "n_outputs_ : int\n",
       "    The number of outputs when ``fit`` is performed.\n",
       "\n",
       "tree_ : Tree\n",
       "    The underlying Tree object. Please refer to\n",
       "    ``help(sklearn.tree._tree.Tree)`` for attributes of Tree object and\n",
       "    :ref:`sphx_glr_auto_examples_tree_plot_unveil_tree_structure.py`\n",
       "    for basic usage of these attributes.\n",
       "\n",
       "See Also\n",
       "--------\n",
       "DecisionTreeClassifier : A decision tree classifier.\n",
       "\n",
       "Notes\n",
       "-----\n",
       "The default values for the parameters controlling the size of the trees\n",
       "(e.g. ``max_depth``, ``min_samples_leaf``, etc.) lead to fully grown and\n",
       "unpruned trees which can potentially be very large on some data sets. To\n",
       "reduce memory consumption, the complexity and size of the trees should be\n",
       "controlled by setting those parameter values.\n",
       "\n",
       "References\n",
       "----------\n",
       "\n",
       ".. [1] https://en.wikipedia.org/wiki/Decision_tree_learning\n",
       "\n",
       ".. [2] L. Breiman, J. Friedman, R. Olshen, and C. Stone, \"Classification\n",
       "       and Regression Trees\", Wadsworth, Belmont, CA, 1984.\n",
       "\n",
       ".. [3] T. Hastie, R. Tibshirani and J. Friedman. \"Elements of Statistical\n",
       "       Learning\", Springer, 2009.\n",
       "\n",
       ".. [4] L. Breiman, and A. Cutler, \"Random Forests\",\n",
       "       https://www.stat.berkeley.edu/~breiman/RandomForests/cc_home.htm\n",
       "\n",
       "Examples\n",
       "--------\n",
       ">>> from sklearn.datasets import load_diabetes\n",
       ">>> from sklearn.model_selection import cross_val_score\n",
       ">>> from sklearn.tree import DecisionTreeRegressor\n",
       ">>> X, y = load_diabetes(return_X_y=True)\n",
       ">>> regressor = DecisionTreeRegressor(random_state=0)\n",
       ">>> cross_val_score(regressor, X, y, cv=10)\n",
       "...                    # doctest: +SKIP\n",
       "...\n",
       "array([-0.39..., -0.46...,  0.02...,  0.06..., -0.50...,\n",
       "       0.16...,  0.11..., -0.73..., -0.30..., -0.00...])\n"
      ]
     },
     "metadata": {},
     "output_type": "display_data"
    }
   ],
   "source": [
    "?cart_model"
   ]
  },
  {
   "cell_type": "code",
   "execution_count": 66,
   "metadata": {},
   "outputs": [],
   "source": [
    "cart_params = {\"min_samples_split\": range(2,100),\n",
    "               \"max_leaf_nodes\": range(2,10)}"
   ]
  },
  {
   "cell_type": "code",
   "execution_count": 67,
   "metadata": {},
   "outputs": [],
   "source": [
    "cart_cv_model = GridSearchCV(cart_model , cart_params , cv = 10)"
   ]
  },
  {
   "cell_type": "code",
   "execution_count": 68,
   "metadata": {},
   "outputs": [
    {
     "data": {
      "text/plain": [
       "GridSearchCV(cv=10, estimator=DecisionTreeRegressor(),\n",
       "             param_grid={'max_leaf_nodes': range(2, 10),\n",
       "                         'min_samples_split': range(2, 100)})"
      ]
     },
     "execution_count": 68,
     "metadata": {},
     "output_type": "execute_result"
    }
   ],
   "source": [
    "cart_cv_model.fit(X_train , y_train)"
   ]
  },
  {
   "cell_type": "code",
   "execution_count": 69,
   "metadata": {},
   "outputs": [
    {
     "data": {
      "text/plain": [
       "{'max_leaf_nodes': 9, 'min_samples_split': 25}"
      ]
     },
     "execution_count": 69,
     "metadata": {},
     "output_type": "execute_result"
    }
   ],
   "source": [
    "cart_cv_model.best_params_"
   ]
  },
  {
   "cell_type": "code",
   "execution_count": 70,
   "metadata": {},
   "outputs": [],
   "source": [
    "cart_tuned = DecisionTreeRegressor(max_leaf_nodes = 9 , min_samples_split = 25)"
   ]
  },
  {
   "cell_type": "code",
   "execution_count": 71,
   "metadata": {},
   "outputs": [
    {
     "data": {
      "text/plain": [
       "DecisionTreeRegressor(max_leaf_nodes=9, min_samples_split=25)"
      ]
     },
     "execution_count": 71,
     "metadata": {},
     "output_type": "execute_result"
    }
   ],
   "source": [
    "cart_tuned.fit(X_train , y_train)"
   ]
  },
  {
   "cell_type": "code",
   "execution_count": 72,
   "metadata": {},
   "outputs": [],
   "source": [
    "y_pred = cart_tuned.predict(X_test)"
   ]
  },
  {
   "cell_type": "code",
   "execution_count": 73,
   "metadata": {},
   "outputs": [
    {
     "data": {
      "text/plain": [
       "2537.027464742795"
      ]
     },
     "execution_count": 73,
     "metadata": {},
     "output_type": "execute_result"
    }
   ],
   "source": [
    "np.sqrt(mean_squared_error(y_test , y_pred))"
   ]
  },
  {
   "cell_type": "markdown",
   "metadata": {},
   "source": [
    "# Bagged Trees Regression"
   ]
  },
  {
   "cell_type": "code",
   "execution_count": 74,
   "metadata": {},
   "outputs": [],
   "source": [
    "bag_model = BaggingRegressor(bootstrap_features = True)"
   ]
  },
  {
   "cell_type": "code",
   "execution_count": 75,
   "metadata": {},
   "outputs": [
    {
     "data": {
      "text/plain": [
       "BaggingRegressor(bootstrap_features=True)"
      ]
     },
     "execution_count": 75,
     "metadata": {},
     "output_type": "execute_result"
    }
   ],
   "source": [
    "bag_model.fit(X_train , y_train)"
   ]
  },
  {
   "cell_type": "code",
   "execution_count": 77,
   "metadata": {},
   "outputs": [
    {
     "data": {
      "text/plain": [
       "10"
      ]
     },
     "execution_count": 77,
     "metadata": {},
     "output_type": "execute_result"
    }
   ],
   "source": [
    "bag_model.n_estimators"
   ]
  },
  {
   "cell_type": "code",
   "execution_count": 78,
   "metadata": {},
   "outputs": [
    {
     "data": {
      "text/plain": [
       "[DecisionTreeRegressor(random_state=2003811152),\n",
       " DecisionTreeRegressor(random_state=1113451934),\n",
       " DecisionTreeRegressor(random_state=597668642),\n",
       " DecisionTreeRegressor(random_state=923672613),\n",
       " DecisionTreeRegressor(random_state=849275828),\n",
       " DecisionTreeRegressor(random_state=1862903350),\n",
       " DecisionTreeRegressor(random_state=614998131),\n",
       " DecisionTreeRegressor(random_state=358471317),\n",
       " DecisionTreeRegressor(random_state=1787766595),\n",
       " DecisionTreeRegressor(random_state=764238339)]"
      ]
     },
     "execution_count": 78,
     "metadata": {},
     "output_type": "execute_result"
    }
   ],
   "source": [
    "bag_model.estimators_"
   ]
  },
  {
   "cell_type": "code",
   "execution_count": 79,
   "metadata": {
    "collapsed": true,
    "jupyter": {
     "outputs_hidden": true
    }
   },
   "outputs": [
    {
     "data": {
      "text/plain": [
       "[array([  2, 123, 122, 131,  20, 141,   0, 149,  30,  95,  77,  59, 119,\n",
       "        138, 119, 102,  35,  71,  61, 139,  57,  39, 107,  32,  95, 129,\n",
       "        144, 105,  95,  86, 119, 109,  84,  86, 118,  48,  52,  90,  71,\n",
       "        102,  32,  85, 129, 113,  94,  19, 152, 105, 133,  95, 127,  42,\n",
       "         75,  42,  54,  30,  45, 107, 150,  90,  62, 135,  77,  37,  44,\n",
       "         28, 138,  88, 144, 117, 128, 122, 115,  60,   8,  45,  29,  85,\n",
       "         17, 123,  68, 102,  41,  65,  25, 137, 122,   8,  22, 152,  19,\n",
       "        113, 113, 130,  11, 104,  52,  88,  62,  57,  80,  45,  43,  14,\n",
       "         11, 122, 101, 114, 114, 119, 118,  55,  23,  32,  84,  33, 104,\n",
       "         78,  63,  40,  13,  97,  73, 100, 113, 134, 139,  60, 104,  47,\n",
       "        108,  62,  64,  12,  77, 124, 114,  26, 111,  56, 111, 112,  47,\n",
       "         30,  63, 137,  53,  85, 142,  18,  68, 135,  45]),\n",
       " array([ 21,   6,  40,  18,  87,  73,  46, 114,  50, 125,  37,  57,  35,\n",
       "         78, 143,  19,  66,  32,  16,   0,  99,  20, 137,  30, 143,  44,\n",
       "         71,  88,  66,  25,   4,  87, 133,  52,  58,  20, 115,  38,  23,\n",
       "        130,  90,  61,  33, 114,   2,  33,  82,  95,  15, 119,  38,  87,\n",
       "        105,  53,  32, 111,  14,  15,   5,  51,  43, 135,  72,  22,  86,\n",
       "         36,  67, 129, 119,  25, 112,  15,  88, 117, 132,  51,  76,  68,\n",
       "         74,  21,  35,  63,   7,  70,  96,  47,  56,  98, 128,  60, 105,\n",
       "         91, 113,  20, 105, 121,  70,  52, 111, 135, 118, 105,   0,  69,\n",
       "         68,  68,  62,  45,  70, 109,  35,  78,  38, 128, 115,  27,  73,\n",
       "         47,  64,  53,  56,  36,  25,  36,  10,   2,  34,  24,  75,  62,\n",
       "        114,   0, 120, 119,   1, 147, 108, 122,  87, 123, 146, 102,   2,\n",
       "        116,   6, 131, 113, 103,  94,  41,  18,  55, 113]),\n",
       " array([ 52, 110,  45, 128, 108,  87,   3,  14,  84,  21,  21,  15, 120,\n",
       "         58,  67,  84,  16,  99, 122, 107,  85,  51,   6,  18,  27,  67,\n",
       "         90,  81,  73, 133, 145,  80,  13,  17,  12,  26, 134, 135, 101,\n",
       "        144, 121, 132,  14,  58, 149,  41,  32,  50,  65, 144,  14, 103,\n",
       "         30,  88, 103,  64,  35,  79, 107, 107,   7, 102,  31,  78, 118,\n",
       "         98,  29, 147, 125,  73, 126, 143,  51, 140,  58, 150, 115,  44,\n",
       "         38, 135,  91,  92, 136,  29, 132,  15,  50,  14,  31,  79,  46,\n",
       "        120, 122,  18, 107, 145, 147,  82,   5, 151, 132, 103,  78, 135,\n",
       "        152, 150,  82, 137,  41, 149, 102,  97,  69,  35,  11,  83,  38,\n",
       "        136, 132,  82,  34,  67,  39,  36, 139, 129,  26,  63,  35,  82,\n",
       "         59,  28,  18,   9,  45, 103,  46,  92,  73,  68, 126,  67,  21,\n",
       "        149,  97,   5,  49,  97, 108,  30, 105,  73,  24]),\n",
       " array([100,   1, 122, 111, 137,  22,  27,  93,  99,  46,  10, 126,  81,\n",
       "         54, 149, 110, 137,  21,  67,   3,  48,   5,  10,  19, 125,  14,\n",
       "         51, 134,  26,  57,  29,  44, 127,  84,  31,  63,  96, 149,   1,\n",
       "         94, 142,  31,  95, 131,   1, 143,  35, 116,  52,  20, 118,  53,\n",
       "        148,   9, 103, 109,  43,  91,  94,  52, 149,  53,  39, 108,   1,\n",
       "        133,   4, 134, 105,  47,  33,  42,  65,  39, 144,  48, 103,  74,\n",
       "         26,  23, 114, 149,  39,  12,  83,  77, 149,  94, 112,  42, 138,\n",
       "         56,  35,  23,  96, 142, 145, 111, 118, 113,  38,  14, 133, 123,\n",
       "         23, 143,  71, 145,  30,  61, 118, 109,  62, 128,  32,  99,  96,\n",
       "         67,  45, 126, 152,  92, 123, 128,  34, 105,  95,   5, 143, 142,\n",
       "         85,  97, 125,  66,   2, 117, 136,  23,  39,  66,  14,  97,  43,\n",
       "         14, 139, 148, 109, 130,  68,  74,   5, 145, 139]),\n",
       " array([142, 106,  53,  96,  92,  96, 145,  29, 113, 138, 120,  58, 126,\n",
       "         51,  35, 111,  70,  45,  58,  74, 123,  37, 130,  54, 107, 134,\n",
       "        139,  28, 104,  69, 151,  92,  79,  22,  96, 129,  48,  49,   4,\n",
       "        119,  12, 129, 127,   5, 138,  14,  96, 135,  19,   3,  96, 130,\n",
       "         65,  53, 121, 149, 144,  20,  33,  65,  29,  29, 100, 116, 149,\n",
       "         71, 148,  75,  45,  15,  11, 113,  87,  42, 118, 116, 104, 131,\n",
       "        137,  12, 112, 111,  39,  51,  21,  82, 152, 133, 119, 139,  65,\n",
       "         33,  15, 116,  25, 143, 141, 150,  32, 105,  93,  42,  43, 127,\n",
       "        118,  87, 119, 133,  29,  67,  20, 101, 139,  24,   7,  39,  98,\n",
       "         16, 133,  98,  53,  85, 129,  13, 105, 119,  67,  78, 131, 110,\n",
       "         93, 152, 112, 107,  39,  52, 117,  52,  18,  32,  38,  45, 114,\n",
       "         20,  85,  47,  76, 143,  20, 138, 141, 123, 141]),\n",
       " array([ 32, 116,  56, 123,  67,  70,  95, 148, 152, 105,  93,  19,  30,\n",
       "        151,  87,  92, 134,  18, 100,  95,  57, 108,  67,  51,   2,  24,\n",
       "         51, 135,  52,  47,  61,  73,  11,  99,   3, 137,  75,  20,  58,\n",
       "          9,  12,  31, 119,  31, 139,  45,   6, 106,  38,  31, 105,  76,\n",
       "         14,   2,  36,  40,  43,  18,  63, 125,  42,  58, 106, 138,  68,\n",
       "         92, 136,  77,  56,  84,  92,   8,  15,  38,   8,  59, 152, 101,\n",
       "         95,  23,   4, 132, 117, 120, 152,  81,  21, 137, 125,  59, 106,\n",
       "        146,  71, 110,  37,  70,  52,  46,  40,  66,  75, 107, 130,   4,\n",
       "         87,  32,  60, 121,  96, 127, 112,  77,  25,  58,  96,  59, 142,\n",
       "         30, 121,  13,  55,  80,  32,  62,  56, 107,  24,  53,  40,  77,\n",
       "         21, 132,  63,  65,   3, 120,  93,  20,  53,  41,  40,  64,  50,\n",
       "        105, 102, 148,  77,  31,  36,   4,   6,  60,  23]),\n",
       " array([ 37, 138,  17,  58, 145,   5, 148,   2,  11,  53,  62, 144,  10,\n",
       "         12,  31,  65,  59, 100,  58, 149,  75, 150, 143, 100,   2,  80,\n",
       "         39,  35,   4, 112, 141, 112,  48,  84,  10,  10,   3,  23,  91,\n",
       "         93,  84,  95,   7, 120,  11,  61,  18,  95,  32,  16,  85,  95,\n",
       "         21,  71,  40,  45, 121, 131, 107,  86,   6,  83,  81,  73,  76,\n",
       "         61,  11, 133,  19,  50, 147,  54,  60,  63, 128, 145,  57,  87,\n",
       "         35,  19, 134,  71,  89, 144,   1,  98, 117,  41,  63, 145,  21,\n",
       "         52, 120,  19,  81,  22, 130, 103, 134, 120,  97, 136, 115,  89,\n",
       "        107,  23,  42,  42, 133, 124,   9,  22,  26,  54, 151,  74,  17,\n",
       "         33, 124, 149, 117,   5,   6,   0, 151, 145,  18, 100,  57, 120,\n",
       "         37, 127,  27,  68,  31, 124, 109,  14,   9,  88,   0,  50,  17,\n",
       "         77,  88,  24, 150,  83, 112,  56,  83,  48, 141]),\n",
       " array([ 75, 121,  62, 121,  32, 125, 102,  18, 145, 151, 118,  65,  44,\n",
       "          8,  56,  35,  78,  62, 116,  82,  38,  28,  30,  76,  42,  58,\n",
       "        103,  70, 108,  84, 120,   3,  54,   6, 142,  91, 143, 126, 101,\n",
       "         44,  27, 107,  60, 141,  10,  84,  94, 127, 148, 125,  68,  12,\n",
       "        134,  61,  64,  53,  67,  63, 146,  48, 148,  91,  68, 142,  96,\n",
       "          9, 145,  93, 150,  55, 117,  88,  45,  90,  72,  10, 152,  20,\n",
       "        131,  83,  18,   4, 137, 130,  86,  83,   5,  40,  52,  97,  45,\n",
       "         66,  71,  11,  72, 104,  83,   3,  90, 151, 114, 142, 126,  74,\n",
       "        131,  54, 136, 119, 145,  54, 109,  93,  65, 102,  59,  74,  25,\n",
       "         70, 144,  41, 131,  86,  69,  40,  54,  79,  88,  28,  79,  90,\n",
       "         39, 115, 132,  80,  54, 147,  10,  98, 122, 111,  85, 138, 147,\n",
       "         39, 127,  91,  64,  98,   2, 146, 100, 142,  52]),\n",
       " array([ 89, 120,  24,  92, 136,  21, 120, 147,  74, 105,  71, 130,  12,\n",
       "         15,  70,  14,   3,  29,  34,  39, 133,  87,  68,  68,   3,  59,\n",
       "         73, 152,  34,  71,  16,  76,  99,  90, 124,  67,  50, 122,   6,\n",
       "         12,  49, 129,  12, 115, 133,  44,  13,   1,  42,  76,   7,  91,\n",
       "         59,  92,  42, 132, 105,  96, 149,  15,  79,  95,  79,  28,  56,\n",
       "         39,  22, 122,  40, 110,  70,   9,  51,  65,  99, 136,  48,  42,\n",
       "        101, 101,  74,  91,  93,  64, 143, 106,  23,  13,  87,  77, 115,\n",
       "          5,  79, 112, 141,  95,  64,  56, 143,  22, 103, 139, 129, 121,\n",
       "         75,  52,   5,  36,  27,  61, 100,  51, 116, 111,  97, 110,  93,\n",
       "         20,  73, 134, 100,   9, 151, 136,   6,   0,  64,  46,  37, 101,\n",
       "         45,  45,  56,  87,  51,  42,  44, 104,  73,  20, 142, 145, 103,\n",
       "        116,  68,  32,  21,  28, 115, 142, 122, 100,  70]),\n",
       " array([142,  46, 142,  35, 138,  46,  49,  66,  71, 140,  47, 100,   3,\n",
       "        117,  84,  27, 101, 140,  42,  60, 129,  28,  14,  46,  32,  39,\n",
       "         99, 148, 111, 143,  96,  41, 116, 108,  16,  53,   4,  22, 120,\n",
       "          3, 123,  53,  28,  64,   7,  55, 112,   4,  57, 136, 113,   1,\n",
       "         32, 109,  55,  52, 137,   4, 139, 126, 144,   3,  59, 136, 149,\n",
       "        109, 148,  87, 113, 128,  75,  38,  68,  82,  88,   0,  17,  51,\n",
       "         43,  62, 116,  51,  18,  32, 120, 144, 130, 123, 142,  96, 145,\n",
       "         52,  51,  55,  53,  31,  89, 110,  69, 127, 151, 120,   9,  38,\n",
       "         59,  23, 123,  83,  12,  20,  73,  37,   2,  76, 138,  80,  66,\n",
       "         77,   6, 102,  74,   6,  42, 136,  85,  89,  56, 115,  59, 140,\n",
       "         47, 125, 115,  86,  33, 151,  12, 125,  28,  61, 138,  79,  66,\n",
       "         86,  52,  87,  36,  62,  27,  59,  27, 132,  32])]"
      ]
     },
     "execution_count": 79,
     "metadata": {},
     "output_type": "execute_result"
    }
   ],
   "source": [
    "bag_model.estimators_samples_"
   ]
  },
  {
   "cell_type": "code",
   "execution_count": 80,
   "metadata": {
    "collapsed": true,
    "jupyter": {
     "outputs_hidden": true
    }
   },
   "outputs": [
    {
     "data": {
      "text/plain": [
       "[array([ 80, 139, 125, 177,  70, 147, 163, 166,  36,  74, 122, 145, 113,\n",
       "          9, 130, 125,   5,   4,  63,  23, 162,  23,  47,  97,  19,  45,\n",
       "        112, 114, 101,  14, 189,  90,  68, 168,  92, 170, 130,  75, 108,\n",
       "        110,  53, 114,  73, 150,  44,  26, 146,  74,  16,  41, 152,  61,\n",
       "        144,  81,  76,  83, 191, 121, 141,   8,  47, 114, 135,  18,  91,\n",
       "         81,  38,  93, 121, 183, 171,  91,  58, 129,  24,  91,  20, 180,\n",
       "         76,  68,  42, 170, 113, 183,  16, 124, 108, 146, 187, 131, 182,\n",
       "         67, 131,  41,  62,   8, 150, 183,  23,  83,  10,  32, 156,  26,\n",
       "        107, 134, 133,  23, 172,  58, 101, 116, 173,  82,  84, 156,  96,\n",
       "         42,  28,  83, 132, 167,  57,  34,  26, 171,  39,  69, 118,  46,\n",
       "        134,   7, 150,  82, 108, 156,  91,  12, 180,  61,  48, 101,  37,\n",
       "          9,  32,  89, 100, 187, 113, 161,   9,   0,  66, 184, 180,  31,\n",
       "         52, 141, 116,  70, 152,  98, 137, 114,  27,  59, 133,   4,  80,\n",
       "         90, 137, 191,  21, 134,   7, 166, 122, 134, 157, 121, 102, 128,\n",
       "         22, 110,  94, 101,  58, 170, 107,   4, 149,  74]),\n",
       " array([158, 171, 171,  45,  71,  92, 166, 103, 119, 175, 134, 180,  24,\n",
       "        186, 160,   5,  73, 142,  42, 102,  19, 184,   3, 126,  57,   0,\n",
       "         91, 139,  40,   3,  71,  12, 167, 159,  67,  54,  56, 125,  86,\n",
       "         68, 182,  88, 132, 118, 115, 132, 123, 105, 161, 128,  71,  58,\n",
       "         72, 111,   9,  84,  31, 185,  37,  22, 160,  55, 183,  22,  74,\n",
       "        140, 163, 133, 149, 154,  53,  46,  56, 186,  13,  18, 189, 152,\n",
       "         43, 187,  56,  61,  22,  71, 132, 111, 183,  36,  13,  27,  87,\n",
       "         89, 105, 103, 100, 185, 113, 136,  89,  49, 124,  14, 169, 138,\n",
       "        121, 132,  55, 166,  61,  78, 105, 111,  16,  42,  80, 101,  86,\n",
       "         49, 151,  14, 169,  38,  21, 128, 109,  43,  50, 113, 109,  53,\n",
       "        150,  46, 165,  28, 181,  95, 111,  97, 168,  80,  88,  70,   2,\n",
       "         86,  92, 137,  49,  25, 133, 187,  79, 173, 108,  62, 128,  18,\n",
       "         51,  99, 118,  46,  79,  58,  68,  11, 179,  16,  65,   2,   9,\n",
       "         26,  63,  84, 183,  34,  44,  56,  97, 100, 138,   8,  67,  44,\n",
       "         11,  13, 167, 118, 125, 159,  60,  26,  75, 164]),\n",
       " array([ 34,   8, 110,  94,  92, 123, 104, 139,   6,  43, 173, 121,   5,\n",
       "        185, 190, 163, 122,  29, 190,  63, 161, 153,   8,  98, 182,  34,\n",
       "         83,  56, 115, 110,   9,  64, 137, 102,  39, 167,  21,  93, 108,\n",
       "         60, 109,  62, 146,  38,   3,  99,   6, 132, 188,  59, 135,  81,\n",
       "         10, 106, 174,  42, 155, 141,  95,  49, 161,  71, 181, 183,  20,\n",
       "         33,  87, 107,  82, 111, 139,  14,  17,  58, 103,  27,  38, 183,\n",
       "         27,  40,  28, 115,  70, 134, 191,  20,  62, 135, 162, 181, 179,\n",
       "        187, 181,  42,  11,  33, 144,  85,  54, 137,   8, 124, 153,  62,\n",
       "        168, 144, 132,  76, 141, 125,  69,  72,  50, 177, 158, 151,  77,\n",
       "        136, 181,  27,  93,  42,  74,  78,  37, 144,  71,  43, 120, 153,\n",
       "        107, 178, 140, 154, 133, 182, 113,  55, 166, 120,  54,  36,  62,\n",
       "        114,  12, 157, 116, 144, 124,  27,  37, 123, 173, 111,   8,  15,\n",
       "         68, 176, 137,  39, 162, 188, 131,  10,  65,  96,  28, 158, 129,\n",
       "         44,  72,  45, 127, 185,  23,  46, 115, 117, 132,  38,  89,  98,\n",
       "         99,  75,  82,   4, 190,  19,  44,  14,  12, 128]),\n",
       " array([ 37, 119,  17, 160,  21, 175,  80, 184,  53,  31,  53, 147, 172,\n",
       "        140,  68,  21,  58,  82,  60,  74,  74,  11,  81, 169, 177, 138,\n",
       "        148,  19, 179, 140,  18,  21,  73, 156, 117,  49,  83,  12,   1,\n",
       "         79, 179,  21,  10, 176, 143,  89,  98, 169, 131, 102,  29, 113,\n",
       "        118,  94,  70,  51, 115, 120,   3,  14,  61,  30,   5,  94,  51,\n",
       "         78,   2,  73,  53,  40,  62,  44, 115, 103,  68, 108,  96, 120,\n",
       "         98,  77, 169,  97,   6,  67, 109,  43, 187,  23, 177,  49, 174,\n",
       "        103, 161, 155,  82,  15, 183,  25, 174,   9, 144,  98, 105,  80,\n",
       "         13, 109,  56, 114,  47, 116,  29,  60, 107,  37,   8, 140, 101,\n",
       "        145,  62, 104, 153, 180, 123,  29,  83, 156,  88, 174,  55,  99,\n",
       "         85,  97, 178,  37,  43,  45,  70, 109,  68,  50, 185,  60, 107,\n",
       "        176,  45, 135,  54,  31, 112, 146,  12,  46, 146,  24,  23,  29,\n",
       "        148,  65, 120, 119,   3, 112,  80, 172,  45, 170, 140, 151,  91,\n",
       "        120, 126, 175, 138, 173, 121,  62,   7, 102, 164,  61,  75,  43,\n",
       "        162,  67, 113,  71,  19,  83,  47,  95, 135,  59]),\n",
       " array([180, 183,  74,  41,  70,  23,  16,  95,  91, 102, 185,  30,  91,\n",
       "        184,  42,  48,  73, 105, 110, 141,  46, 103, 172,  33,  57, 151,\n",
       "         66,  36,  84, 160, 104,  30,  28,  86, 110,  23, 177,  38,  17,\n",
       "        178,  69, 107,  70,  72,  81, 115,  32, 125,  63,  91,  14,  42,\n",
       "         87, 129, 183,  47,  76,  42,  51, 159, 163,  30,  44,  14, 113,\n",
       "        155, 112,  31,  88, 162, 164,  73, 100,  84, 103,  72,  86,  38,\n",
       "        141,  33, 183,  28,  32,  92,  49,   6,  53,  55,   9, 173,  51,\n",
       "          0,  26,   6, 135,  29,  63,  89,  36, 168, 121, 101,  93, 161,\n",
       "          2, 152,  84,  87,  92, 146,  39,  99,  54, 159, 155,  34,  70,\n",
       "         46, 116, 156, 152,  43,  90,  28,  66, 161,  13,   2, 187, 109,\n",
       "          3,  24,  84, 189, 122, 152,  67, 157,  16,  14, 104, 137, 126,\n",
       "         90, 185,  40, 168, 188,   2, 140, 171, 167,  62,  13,  28,  54,\n",
       "        177, 153,  68, 100,  80, 138,   3,   9, 122, 182, 184,  37, 178,\n",
       "        143, 130,  61,  16, 180, 153, 131,  63, 177, 172,  64,  16, 119,\n",
       "         64, 181,  48,  90,  73, 134,   4, 104,  95,  11]),\n",
       " array([ 54, 119,  29,   7,  64,  33,  63, 169,  91,  74, 168, 164,  11,\n",
       "         32, 130, 176,  77,  15, 135,  80, 142,  14, 107, 191, 161,  32,\n",
       "        103, 161,  87,  25,  96,  76, 179,  60, 183, 169,  21,   9,  72,\n",
       "        107,  84, 102, 143, 117, 121,  86,  52, 158, 155,  46,  50,  86,\n",
       "         36, 185,  49,  69, 119,  85,  61,  77, 134,  15,   9,  36, 147,\n",
       "         90,   8, 190, 129,   3, 173,  83,  67, 105, 138, 116, 123, 145,\n",
       "        143, 142,  13, 137, 108, 129, 188, 120, 123,  73,  71,  12,  75,\n",
       "        175,  79,  43, 185,  94, 113,  65,  21,  53,  89, 176, 100,  82,\n",
       "         36,   5,  42,  41,  55,  32,  14, 153,  35, 148,  43, 106, 177,\n",
       "         30,  60,  62,  58, 124,   3, 148,  93, 154, 175,  18,   3,  66,\n",
       "         16,  14,  24,  53,  22,  79,  39,  92,   5,  35,  50, 126,   0,\n",
       "         52, 147, 172,  31, 175, 104,  70, 126,  10,  51,  86, 146,  79,\n",
       "        143,  48,  30, 141,  80,  87, 168,  91, 166, 176, 112, 119,  85,\n",
       "        190,  96,  59, 124,  86, 180, 182, 183, 114, 118, 155,   5, 147,\n",
       "         54,  90, 183,  84, 169,  36,  93,  41,  16,   2]),\n",
       " array([115,  55, 133, 190, 111, 154,   0,  20,  93, 116, 148, 123, 115,\n",
       "        142,   7,  89,  74,  70, 147,  97,  66, 179,  29,  75, 168,  70,\n",
       "        184,   0, 177,   1,  17, 145,  33, 187,  49,  80,  18, 188,  90,\n",
       "        102,  94,  95,  11, 143,  83, 136,   6,  86,  77, 121,  56,  47,\n",
       "         59,  52,  47, 136, 105, 139, 175, 171,  11, 133,  43, 155,  26,\n",
       "         10, 144, 110,  13,  67, 156,  34,  44,  98,  11,  56, 106, 185,\n",
       "         62,  12, 131,  31,  13, 123, 109,  64,  56, 109, 151,  20, 140,\n",
       "        134,  80, 123, 191,  70, 137, 168,  36,  75, 112,  10, 164,  55,\n",
       "        186,  11, 117, 109,  14,  12, 102,   1, 169, 164, 190,  45, 147,\n",
       "          5, 171,   7,  58,  15, 149, 134, 176, 113,  74,  47, 191, 125,\n",
       "          3,  97, 107, 119, 157,  30,   1,  94,  82,  66,  44,  25,  49,\n",
       "        142, 129, 125,  34, 129, 161,  60, 165,  21, 164, 186, 162,  89,\n",
       "          7,  93, 125,  42,  82,  46, 145, 163,  51,   4, 103,  92, 138,\n",
       "        120, 178, 144, 186,  73,  29,  69,  12, 133,  41, 119, 119, 167,\n",
       "        120, 141, 104,  68, 118, 154,  57, 174,  97, 118]),\n",
       " array([149,  92,  59,  75, 166,  96,   1, 181, 168, 120,  99, 139, 166,\n",
       "         36,  44, 177, 151, 177, 120,  35, 147,  17,  68,  78,  71, 130,\n",
       "        189,   9, 121, 148, 153,  89,   0, 122, 105,  95,  18,  69,  82,\n",
       "         43, 131, 138,  48, 158,   4, 190,  27, 165, 127,  96,  61, 168,\n",
       "        117, 172, 108,  18,  80,  89,  81, 152, 163, 129,  72, 179, 109,\n",
       "        188, 183, 162, 108,  68, 179, 127,  74, 118, 116, 149,  74,  30,\n",
       "         95,  75, 143,  50, 150,  30,  62,  64, 155, 182, 149, 133,  20,\n",
       "         83, 106, 181, 140,  28, 119,  84, 100, 131, 185,  89,  64,  49,\n",
       "        114,  44, 173, 144,  24,   2,   9,  83, 154,  27, 106,  86, 104,\n",
       "        125,  10, 147, 166,  63, 178, 181,  13,  86,  36,   4, 145,  47,\n",
       "         84,  30,  63, 169, 147,  37, 113, 126, 148,  12,  62, 113, 188,\n",
       "        185,   4,  64,  89, 185,  64, 190, 135,  29, 179, 150, 168,  46,\n",
       "         60, 152, 128,  89,  96,  74,  68,  97, 142, 111, 173, 157,  56,\n",
       "        186, 105, 176,  11,  55, 123,  70, 160, 129,  23,  53,  61,  66,\n",
       "         45, 164, 188,   4,  72, 106, 144, 116, 146, 181]),\n",
       " array([ 67,  77,  57, 139,  16,  94, 108, 164, 190, 109, 111, 177, 177,\n",
       "         74, 188,  40, 144, 154, 167, 101,  54,  82, 170, 191,  91, 119,\n",
       "          2,  39, 180, 119,  96,  32, 138, 183,  24,  71, 111,  45, 145,\n",
       "          6,  77,  36, 111, 158,  29,   6,  68, 138,  19, 138,  66,  96,\n",
       "        182, 134, 159, 185,  36, 120, 104, 107, 166, 127, 162,  91,  47,\n",
       "         96, 190,  76, 186,  52, 105,   7,  85,  32,  14, 157, 187,  40,\n",
       "        151,  48,  45, 111, 141, 121,  67,   4,  65, 138, 160,   5,  68,\n",
       "        135, 115, 174,  25, 146, 112,  20,  85,  94,  82,  99, 148,  20,\n",
       "         39, 159, 139,  89, 146, 113,  81, 156,  18,  52,  78, 185, 109,\n",
       "         59,  69,  19,  27, 156, 184,  27,  33,  23,  11,  62,   8, 111,\n",
       "         40, 153,  78, 187, 175, 178,  97,  11,  77, 166,  66,  58,  29,\n",
       "        163,  10, 170,   7, 110,   8, 133, 157,  48,  38, 139,  83, 111,\n",
       "         77, 161,  10,  97, 166,  74,  46, 153, 142, 130, 187,  68,  70,\n",
       "        137,  86,  67,   6, 109,  73,  18, 102,  40, 104,  81,  50, 165,\n",
       "         74, 106,  93,  92,  53, 172, 119,   0,  24,  39]),\n",
       " array([  3, 123, 108,  24,  18,  77,  72, 116,  27, 129,  68, 139, 181,\n",
       "        186, 166,  21,  24, 163,   9,  26,   7, 127, 114, 155,  80,   5,\n",
       "         90, 146, 175,  94,  60,  35,  20,  17, 131,  33, 148,  32, 138,\n",
       "         31,  81, 174, 170, 168, 185,  40,   3, 175,  10,  68, 119, 147,\n",
       "         77, 146,  28, 112, 136, 158, 107,   3, 158,  30,  69,  93, 139,\n",
       "        169, 165, 160,  66, 188, 129,  85, 108, 122,  13,   5,  91,  56,\n",
       "        146,  17,  50, 180,  76,  74,  44,  14, 136,  63, 130, 128,  24,\n",
       "         80,  69, 114,  45,  61, 162,  61,  40,  60,  46, 167,  40, 163,\n",
       "        129,   1,  17, 117,  35,  82,  24, 124, 156,  88, 175, 171, 120,\n",
       "         32, 142,  71, 132,  11,  10,  71,  43,  53,  84,  24, 144, 134,\n",
       "         37, 160,  71,  54, 145, 171, 128, 188,  82,  97, 111, 118, 109,\n",
       "        103, 172, 117, 164, 169, 102,  82,  13, 175, 177,  64, 135,  67,\n",
       "        104, 163,  94, 119, 184,  81, 180, 162,  14, 127, 132, 187,  81,\n",
       "         15, 133,  48, 165,  57,   4,  75, 150, 174, 146, 108,   1, 104,\n",
       "        178,  29,  36,  37,  82,   0, 165,  29, 124,  18])]"
      ]
     },
     "execution_count": 80,
     "metadata": {},
     "output_type": "execute_result"
    }
   ],
   "source": [
    "bag_model.estimators_features_"
   ]
  },
  {
   "cell_type": "code",
   "execution_count": 81,
   "metadata": {},
   "outputs": [
    {
     "data": {
      "text/plain": [
       "DecisionTreeRegressor(random_state=1113451934)"
      ]
     },
     "execution_count": 81,
     "metadata": {},
     "output_type": "execute_result"
    }
   ],
   "source": [
    "bag_model.estimators_[1]"
   ]
  },
  {
   "cell_type": "code",
   "execution_count": 82,
   "metadata": {},
   "outputs": [],
   "source": [
    "y_pred = bag_model.predict(X_test)"
   ]
  },
  {
   "cell_type": "code",
   "execution_count": 83,
   "metadata": {},
   "outputs": [
    {
     "data": {
      "text/plain": [
       "1934.0797031235577"
      ]
     },
     "execution_count": 83,
     "metadata": {},
     "output_type": "execute_result"
    }
   ],
   "source": [
    "np.sqrt(mean_squared_error(y_test , y_pred))"
   ]
  },
  {
   "cell_type": "markdown",
   "metadata": {},
   "source": [
    "## Model Tuning"
   ]
  },
  {
   "cell_type": "code",
   "execution_count": 88,
   "metadata": {},
   "outputs": [],
   "source": [
    "bag_params = {\"n_estimators\": range(2,20)}"
   ]
  },
  {
   "cell_type": "code",
   "execution_count": 89,
   "metadata": {},
   "outputs": [],
   "source": [
    "bag_cv_model = GridSearchCV(bag_model, bag_params, cv = 10)"
   ]
  },
  {
   "cell_type": "code",
   "execution_count": 91,
   "metadata": {},
   "outputs": [
    {
     "data": {
      "text/plain": [
       "GridSearchCV(cv=10, estimator=BaggingRegressor(bootstrap_features=True),\n",
       "             param_grid={'n_estimators': range(2, 20)})"
      ]
     },
     "execution_count": 91,
     "metadata": {},
     "output_type": "execute_result"
    }
   ],
   "source": [
    "bag_cv_model.fit(X_train, y_train)"
   ]
  },
  {
   "cell_type": "code",
   "execution_count": 92,
   "metadata": {},
   "outputs": [
    {
     "data": {
      "text/plain": [
       "{'n_estimators': 17}"
      ]
     },
     "execution_count": 92,
     "metadata": {},
     "output_type": "execute_result"
    }
   ],
   "source": [
    "bag_cv_model.best_params_"
   ]
  },
  {
   "cell_type": "code",
   "execution_count": 93,
   "metadata": {},
   "outputs": [],
   "source": [
    "bag_tuned = BaggingRegressor( n_estimators = 14, random_state = 45)"
   ]
  },
  {
   "cell_type": "code",
   "execution_count": 94,
   "metadata": {},
   "outputs": [
    {
     "data": {
      "text/plain": [
       "BaggingRegressor(n_estimators=14, random_state=45)"
      ]
     },
     "execution_count": 94,
     "metadata": {},
     "output_type": "execute_result"
    }
   ],
   "source": [
    "bag_tuned.fit(X_train, y_train)"
   ]
  },
  {
   "cell_type": "code",
   "execution_count": 95,
   "metadata": {},
   "outputs": [],
   "source": [
    "y_pred = bag_tuned.predict(X_test)"
   ]
  },
  {
   "cell_type": "code",
   "execution_count": 96,
   "metadata": {},
   "outputs": [
    {
     "data": {
      "text/plain": [
       "1893.7187253707032"
      ]
     },
     "execution_count": 96,
     "metadata": {},
     "output_type": "execute_result"
    }
   ],
   "source": [
    "np.sqrt(mean_squared_error(y_test, y_pred))"
   ]
  },
  {
   "cell_type": "markdown",
   "metadata": {},
   "source": [
    "# Random Forests"
   ]
  },
  {
   "cell_type": "code",
   "execution_count": 98,
   "metadata": {},
   "outputs": [],
   "source": [
    "rf_model = RandomForestRegressor(random_state = 42)"
   ]
  },
  {
   "cell_type": "code",
   "execution_count": 99,
   "metadata": {},
   "outputs": [
    {
     "data": {
      "text/plain": [
       "RandomForestRegressor(random_state=42)"
      ]
     },
     "execution_count": 99,
     "metadata": {},
     "output_type": "execute_result"
    }
   ],
   "source": [
    "rf_model.fit(X_train , y_train)"
   ]
  },
  {
   "cell_type": "code",
   "execution_count": 100,
   "metadata": {},
   "outputs": [],
   "source": [
    "y_pred = rf_model.predict(X_test)"
   ]
  },
  {
   "cell_type": "code",
   "execution_count": 102,
   "metadata": {},
   "outputs": [
    {
     "data": {
      "text/plain": [
       "1801.9776487588415"
      ]
     },
     "execution_count": 102,
     "metadata": {},
     "output_type": "execute_result"
    }
   ],
   "source": [
    "np.sqrt(mean_squared_error(y_test , y_pred))"
   ]
  },
  {
   "cell_type": "markdown",
   "metadata": {},
   "source": [
    "## Model Tuning"
   ]
  },
  {
   "cell_type": "code",
   "execution_count": 103,
   "metadata": {},
   "outputs": [],
   "source": [
    "rf_params = {'max_depth': list(range(1,10)),\n",
    "            'max_features': [3,5,10,15],\n",
    "            'n_estimators' : [100, 200, 500, 1000, 2000]}"
   ]
  },
  {
   "cell_type": "code",
   "execution_count": 104,
   "metadata": {},
   "outputs": [],
   "source": [
    "rf_model = RandomForestRegressor(random_state = 42)"
   ]
  },
  {
   "cell_type": "code",
   "execution_count": 105,
   "metadata": {},
   "outputs": [],
   "source": [
    "rf_cv_model = GridSearchCV(rf_model, rf_params, cv = 10, n_jobs = -1)"
   ]
  },
  {
   "cell_type": "code",
   "execution_count": 106,
   "metadata": {},
   "outputs": [
    {
     "data": {
      "text/plain": [
       "GridSearchCV(cv=10, estimator=RandomForestRegressor(random_state=42), n_jobs=-1,\n",
       "             param_grid={'max_depth': [1, 2, 3, 4, 5, 6, 7, 8, 9],\n",
       "                         'max_features': [3, 5, 10, 15],\n",
       "                         'n_estimators': [100, 200, 500, 1000, 2000]})"
      ]
     },
     "execution_count": 106,
     "metadata": {},
     "output_type": "execute_result"
    }
   ],
   "source": [
    "rf_cv_model.fit(X_train, y_train)"
   ]
  },
  {
   "cell_type": "code",
   "execution_count": 107,
   "metadata": {},
   "outputs": [
    {
     "data": {
      "text/plain": [
       "{'max_depth': 9, 'max_features': 15, 'n_estimators': 100}"
      ]
     },
     "execution_count": 107,
     "metadata": {},
     "output_type": "execute_result"
    }
   ],
   "source": [
    "rf_cv_model.best_params_"
   ]
  },
  {
   "cell_type": "code",
   "execution_count": 108,
   "metadata": {},
   "outputs": [],
   "source": [
    "rf_tuned = RandomForestRegressor(max_depth = 9 , max_features = 15 , n_estimators = 100)"
   ]
  },
  {
   "cell_type": "code",
   "execution_count": 109,
   "metadata": {},
   "outputs": [
    {
     "data": {
      "text/plain": [
       "RandomForestRegressor(max_depth=9, max_features=15)"
      ]
     },
     "execution_count": 109,
     "metadata": {},
     "output_type": "execute_result"
    }
   ],
   "source": [
    "rf_tuned.fit(X_train , y_train)"
   ]
  },
  {
   "cell_type": "code",
   "execution_count": 110,
   "metadata": {},
   "outputs": [],
   "source": [
    "y_pred = rf_tuned.predict(X_test)"
   ]
  },
  {
   "cell_type": "code",
   "execution_count": 111,
   "metadata": {},
   "outputs": [
    {
     "data": {
      "text/plain": [
       "1917.7882910526764"
      ]
     },
     "execution_count": 111,
     "metadata": {},
     "output_type": "execute_result"
    }
   ],
   "source": [
    "np.sqrt(mean_squared_error(y_test , y_pred))"
   ]
  },
  {
   "cell_type": "markdown",
   "metadata": {},
   "source": [
    "# Gradient Boosting Machines"
   ]
  },
  {
   "cell_type": "code",
   "execution_count": 119,
   "metadata": {},
   "outputs": [],
   "source": [
    "from sklearn.ensemble import GradientBoostingRegressor"
   ]
  },
  {
   "cell_type": "code",
   "execution_count": 120,
   "metadata": {},
   "outputs": [
    {
     "data": {
      "text/plain": [
       "GradientBoostingRegressor()"
      ]
     },
     "execution_count": 120,
     "metadata": {},
     "output_type": "execute_result"
    }
   ],
   "source": [
    "gbm_model = GradientBoostingRegressor()\n",
    "gbm_model.fit(X_train , y_train)"
   ]
  },
  {
   "cell_type": "code",
   "execution_count": 121,
   "metadata": {},
   "outputs": [],
   "source": [
    "y_pred = gbm_model.predict(X_test)"
   ]
  },
  {
   "cell_type": "code",
   "execution_count": 122,
   "metadata": {},
   "outputs": [
    {
     "data": {
      "text/plain": [
       "1758.8339154913826"
      ]
     },
     "execution_count": 122,
     "metadata": {},
     "output_type": "execute_result"
    }
   ],
   "source": [
    "np.sqrt(mean_squared_error(y_test , y_pred))"
   ]
  },
  {
   "cell_type": "markdown",
   "metadata": {},
   "source": [
    "## Model Tuning"
   ]
  },
  {
   "cell_type": "code",
   "execution_count": 123,
   "metadata": {},
   "outputs": [],
   "source": [
    "gbm_params = {\n",
    "    'learning_rate': [0.001, 0.01, 0.1, 0.2],\n",
    "    'max_depth': [3, 5, 8,50,100],\n",
    "    'n_estimators': [200, 500, 1000, 2000],\n",
    "    'subsample': [1,0.5,0.75],\n",
    "}"
   ]
  },
  {
   "cell_type": "code",
   "execution_count": 124,
   "metadata": {},
   "outputs": [
    {
     "name": "stdout",
     "output_type": "stream",
     "text": [
      "Fitting 10 folds for each of 240 candidates, totalling 2400 fits\n"
     ]
    },
    {
     "name": "stderr",
     "output_type": "stream",
     "text": [
      "[Parallel(n_jobs=-1)]: Using backend LokyBackend with 4 concurrent workers.\n",
      "[Parallel(n_jobs=-1)]: Done  33 tasks      | elapsed:    5.2s\n",
      "[Parallel(n_jobs=-1)]: Done 154 tasks      | elapsed:   53.8s\n",
      "[Parallel(n_jobs=-1)]: Done 357 tasks      | elapsed:  3.8min\n",
      "[Parallel(n_jobs=-1)]: Done 640 tasks      | elapsed:  8.1min\n",
      "[Parallel(n_jobs=-1)]: Done 1005 tasks      | elapsed: 12.0min\n",
      "[Parallel(n_jobs=-1)]: Done 1450 tasks      | elapsed: 19.3min\n",
      "[Parallel(n_jobs=-1)]: Done 1977 tasks      | elapsed: 27.4min\n",
      "[Parallel(n_jobs=-1)]: Done 2400 out of 2400 | elapsed: 35.3min finished\n"
     ]
    },
    {
     "data": {
      "text/plain": [
       "GridSearchCV(cv=10, estimator=GradientBoostingRegressor(), n_jobs=-1,\n",
       "             param_grid={'learning_rate': [0.001, 0.01, 0.1, 0.2],\n",
       "                         'max_depth': [3, 5, 8, 50, 100],\n",
       "                         'n_estimators': [200, 500, 1000, 2000],\n",
       "                         'subsample': [1, 0.5, 0.75]},\n",
       "             verbose=2)"
      ]
     },
     "execution_count": 124,
     "metadata": {},
     "output_type": "execute_result"
    }
   ],
   "source": [
    "gbm = GradientBoostingRegressor()\n",
    "gbm_cv_model = GridSearchCV(gbm, gbm_params, cv = 10, n_jobs = -1, verbose = 2)\n",
    "gbm_cv_model.fit(X_train, y_train)"
   ]
  },
  {
   "cell_type": "code",
   "execution_count": 125,
   "metadata": {},
   "outputs": [
    {
     "data": {
      "text/plain": [
       "{'learning_rate': 0.2, 'max_depth': 50, 'n_estimators': 200, 'subsample': 0.5}"
      ]
     },
     "execution_count": 125,
     "metadata": {},
     "output_type": "execute_result"
    }
   ],
   "source": [
    "gbm_cv_model.best_params_"
   ]
  },
  {
   "cell_type": "code",
   "execution_count": 126,
   "metadata": {},
   "outputs": [],
   "source": [
    "gbm_tuned = GradientBoostingRegressor(learning_rate = 0.2,  \n",
    "                                      max_depth = 50, \n",
    "                                      n_estimators = 200, \n",
    "                                      subsample = 0.5)\n",
    "\n",
    "gbm_tuned = gbm_tuned.fit(X_train,y_train)"
   ]
  },
  {
   "cell_type": "code",
   "execution_count": 127,
   "metadata": {},
   "outputs": [],
   "source": [
    "y_pred = gbm_tuned.predict(X_test)"
   ]
  },
  {
   "cell_type": "code",
   "execution_count": 128,
   "metadata": {},
   "outputs": [
    {
     "data": {
      "text/plain": [
       "1765.6629757072803"
      ]
     },
     "execution_count": 128,
     "metadata": {},
     "output_type": "execute_result"
    }
   ],
   "source": [
    "np.sqrt(mean_squared_error(y_test , y_pred))"
   ]
  },
  {
   "cell_type": "markdown",
   "metadata": {},
   "source": [
    "# XGBoost"
   ]
  },
  {
   "cell_type": "code",
   "execution_count": 132,
   "metadata": {},
   "outputs": [
    {
     "name": "stdout",
     "output_type": "stream",
     "text": [
      "Collecting xgboost\n",
      "  Downloading xgboost-1.7.5-py3-none-win_amd64.whl (70.9 MB)\n",
      "Requirement already satisfied: scipy in c:\\users\\karacik\\anaconda3\\lib\\site-packages (from xgboost) (1.5.0)\n",
      "Requirement already satisfied: numpy in c:\\users\\karacik\\anaconda3\\lib\\site-packages (from xgboost) (1.18.5)\n",
      "Installing collected packages: xgboost\n",
      "Successfully installed xgboost-1.7.5\n"
     ]
    }
   ],
   "source": [
    "!pip install xgboost"
   ]
  },
  {
   "cell_type": "code",
   "execution_count": 133,
   "metadata": {},
   "outputs": [],
   "source": [
    "import xgboost as xgb"
   ]
  },
  {
   "cell_type": "code",
   "execution_count": 134,
   "metadata": {},
   "outputs": [],
   "source": [
    "DM_train = xgb.DMatrix(data = X_train, label = y_train)\n",
    "DM_test = xgb.DMatrix(data = X_test, label = y_test)"
   ]
  },
  {
   "cell_type": "code",
   "execution_count": 135,
   "metadata": {},
   "outputs": [],
   "source": [
    "from xgboost import XGBRegressor"
   ]
  },
  {
   "cell_type": "code",
   "execution_count": 136,
   "metadata": {},
   "outputs": [],
   "source": [
    "xgb_model = XGBRegressor().fit(X_train, y_train)"
   ]
  },
  {
   "cell_type": "code",
   "execution_count": 137,
   "metadata": {},
   "outputs": [
    {
     "data": {
      "text/plain": [
       "2045.588341347811"
      ]
     },
     "execution_count": 137,
     "metadata": {},
     "output_type": "execute_result"
    }
   ],
   "source": [
    "y_pred = xgb_model.predict(X_test)\n",
    "np.sqrt(mean_squared_error(y_test, y_pred))"
   ]
  },
  {
   "cell_type": "markdown",
   "metadata": {},
   "source": [
    "## Model Tuning"
   ]
  },
  {
   "cell_type": "code",
   "execution_count": 138,
   "metadata": {},
   "outputs": [],
   "source": [
    "xgb_grid = {\n",
    "     'colsample_bytree': [0.4, 0.5,0.6,0.9,1], \n",
    "     'n_estimators':[100, 200, 500, 1000],\n",
    "     'max_depth': [2,3,4,5,6],\n",
    "     'learning_rate': [0.1, 0.01, 0.5]\n",
    "}"
   ]
  },
  {
   "cell_type": "code",
   "execution_count": 139,
   "metadata": {},
   "outputs": [
    {
     "name": "stdout",
     "output_type": "stream",
     "text": [
      "Fitting 10 folds for each of 300 candidates, totalling 3000 fits\n"
     ]
    },
    {
     "name": "stderr",
     "output_type": "stream",
     "text": [
      "[Parallel(n_jobs=-1)]: Using backend LokyBackend with 4 concurrent workers.\n",
      "[Parallel(n_jobs=-1)]: Done  33 tasks      | elapsed:   13.6s\n",
      "[Parallel(n_jobs=-1)]: Done 154 tasks      | elapsed:  1.0min\n",
      "[Parallel(n_jobs=-1)]: Done 357 tasks      | elapsed:  2.4min\n",
      "[Parallel(n_jobs=-1)]: Done 640 tasks      | elapsed:  4.3min\n",
      "[Parallel(n_jobs=-1)]: Done 1005 tasks      | elapsed:  6.8min\n",
      "[Parallel(n_jobs=-1)]: Done 1450 tasks      | elapsed: 10.3min\n",
      "[Parallel(n_jobs=-1)]: Done 1977 tasks      | elapsed: 14.9min\n",
      "[Parallel(n_jobs=-1)]: Done 2584 tasks      | elapsed: 21.6min\n",
      "[Parallel(n_jobs=-1)]: Done 3000 out of 3000 | elapsed: 27.7min finished\n"
     ]
    },
    {
     "data": {
      "text/plain": [
       "GridSearchCV(cv=10,\n",
       "             estimator=XGBRegressor(base_score=None, booster=None,\n",
       "                                    callbacks=None, colsample_bylevel=None,\n",
       "                                    colsample_bynode=None,\n",
       "                                    colsample_bytree=None,\n",
       "                                    early_stopping_rounds=None,\n",
       "                                    enable_categorical=False, eval_metric=None,\n",
       "                                    feature_types=None, gamma=None, gpu_id=None,\n",
       "                                    grow_policy=None, importance_type=None,\n",
       "                                    interaction_constraints=None,\n",
       "                                    learning_rate=None,...\n",
       "                                    max_cat_to_onehot=None, max_delta_step=None,\n",
       "                                    max_depth=None, max_leaves=None,\n",
       "                                    min_child_weight=None, missing=nan,\n",
       "                                    monotone_constraints=None, n_estimators=100,\n",
       "                                    n_jobs=None, num_parallel_tree=None,\n",
       "                                    predictor=None, random_state=None, ...),\n",
       "             n_jobs=-1,\n",
       "             param_grid={'colsample_bytree': [0.4, 0.5, 0.6, 0.9, 1],\n",
       "                         'learning_rate': [0.1, 0.01, 0.5],\n",
       "                         'max_depth': [2, 3, 4, 5, 6],\n",
       "                         'n_estimators': [100, 200, 500, 1000]},\n",
       "             verbose=2)"
      ]
     },
     "execution_count": 139,
     "metadata": {},
     "output_type": "execute_result"
    }
   ],
   "source": [
    "xgb = XGBRegressor()\n",
    "\n",
    "xgb_cv = GridSearchCV(xgb, \n",
    "                      param_grid = xgb_grid, \n",
    "                      cv = 10, \n",
    "                      n_jobs = -1,\n",
    "                      verbose = 2)\n",
    "\n",
    "\n",
    "xgb_cv.fit(X_train, y_train)"
   ]
  },
  {
   "cell_type": "code",
   "execution_count": 140,
   "metadata": {},
   "outputs": [
    {
     "data": {
      "text/plain": [
       "{'colsample_bytree': 0.4,\n",
       " 'learning_rate': 0.1,\n",
       " 'max_depth': 3,\n",
       " 'n_estimators': 100}"
      ]
     },
     "execution_count": 140,
     "metadata": {},
     "output_type": "execute_result"
    }
   ],
   "source": [
    "xgb_cv.best_params_"
   ]
  },
  {
   "cell_type": "code",
   "execution_count": 141,
   "metadata": {},
   "outputs": [],
   "source": [
    "xgb_tuned = XGBRegressor(colsample_bytree = 0.4, \n",
    "                         learning_rate = 0.1, \n",
    "                         max_depth = 3, \n",
    "                         n_estimators = 100) \n",
    "\n",
    "xgb_tuned = xgb_tuned.fit(X_train,y_train)"
   ]
  },
  {
   "cell_type": "code",
   "execution_count": 142,
   "metadata": {},
   "outputs": [
    {
     "data": {
      "text/plain": [
       "1913.2596194380835"
      ]
     },
     "execution_count": 142,
     "metadata": {},
     "output_type": "execute_result"
    }
   ],
   "source": [
    "y_pred = xgb_tuned.predict(X_test)\n",
    "np.sqrt(mean_squared_error(y_test, y_pred))"
   ]
  },
  {
   "cell_type": "markdown",
   "metadata": {},
   "source": [
    "# Light GBM"
   ]
  },
  {
   "cell_type": "code",
   "execution_count": 143,
   "metadata": {
    "collapsed": true,
    "jupyter": {
     "outputs_hidden": true
    }
   },
   "outputs": [
    {
     "name": "stdout",
     "output_type": "stream",
     "text": [
      "Collecting lightgbm\n",
      "  Downloading lightgbm-3.3.5-py3-none-win_amd64.whl (1.0 MB)\n",
      "Requirement already satisfied: scikit-learn!=0.22.0 in c:\\users\\karacik\\anaconda3\\lib\\site-packages (from lightgbm) (0.23.1)\n",
      "Requirement already satisfied: numpy in c:\\users\\karacik\\anaconda3\\lib\\site-packages (from lightgbm) (1.18.5)\n",
      "Requirement already satisfied: wheel in c:\\users\\karacik\\anaconda3\\lib\\site-packages (from lightgbm) (0.34.2)\n",
      "Requirement already satisfied: scipy in c:\\users\\karacik\\anaconda3\\lib\\site-packages (from lightgbm) (1.5.0)\n",
      "Requirement already satisfied: threadpoolctl>=2.0.0 in c:\\users\\karacik\\anaconda3\\lib\\site-packages (from scikit-learn!=0.22.0->lightgbm) (2.1.0)\n",
      "Requirement already satisfied: joblib>=0.11 in c:\\users\\karacik\\anaconda3\\lib\\site-packages (from scikit-learn!=0.22.0->lightgbm) (0.16.0)\n",
      "Installing collected packages: lightgbm\n",
      "Successfully installed lightgbm-3.3.5\n"
     ]
    }
   ],
   "source": [
    "!pip install lightgbm"
   ]
  },
  {
   "cell_type": "code",
   "execution_count": 144,
   "metadata": {},
   "outputs": [],
   "source": [
    "from lightgbm import LGBMRegressor"
   ]
  },
  {
   "cell_type": "code",
   "execution_count": 145,
   "metadata": {},
   "outputs": [],
   "source": [
    "lgbm = LGBMRegressor()\n",
    "lgbm_model = lgbm.fit(X_train, y_train)"
   ]
  },
  {
   "cell_type": "code",
   "execution_count": 146,
   "metadata": {},
   "outputs": [],
   "source": [
    "y_pred = lgbm_model.predict(X_test, \n",
    "                            num_iteration = lgbm_model.best_iteration_)"
   ]
  },
  {
   "cell_type": "code",
   "execution_count": 147,
   "metadata": {},
   "outputs": [
    {
     "data": {
      "text/plain": [
       "2437.963529996202"
      ]
     },
     "execution_count": 147,
     "metadata": {},
     "output_type": "execute_result"
    }
   ],
   "source": [
    "np.sqrt(mean_squared_error(y_test, y_pred))"
   ]
  },
  {
   "cell_type": "markdown",
   "metadata": {},
   "source": [
    "# Model Tuning"
   ]
  },
  {
   "cell_type": "code",
   "execution_count": 148,
   "metadata": {},
   "outputs": [],
   "source": [
    "lgbm_grid = {\n",
    "    'colsample_bytree': [0.4, 0.5,0.6,0.9,1],\n",
    "    'learning_rate': [0.01, 0.1, 0.5,1],\n",
    "    'n_estimators': [20, 40, 100, 200, 500,1000],\n",
    "    'max_depth': [1,2,3,4,5,6,7,8] }\n",
    "\n",
    "lgbm = LGBMRegressor()\n",
    "lgbm_cv_model = GridSearchCV(lgbm, lgbm_grid, cv=10, n_jobs = -1, verbose = 2)"
   ]
  },
  {
   "cell_type": "code",
   "execution_count": 149,
   "metadata": {},
   "outputs": [
    {
     "name": "stdout",
     "output_type": "stream",
     "text": [
      "Fitting 10 folds for each of 960 candidates, totalling 9600 fits\n"
     ]
    },
    {
     "name": "stderr",
     "output_type": "stream",
     "text": [
      "[Parallel(n_jobs=-1)]: Using backend LokyBackend with 4 concurrent workers.\n",
      "[Parallel(n_jobs=-1)]: Done  34 tasks      | elapsed:    3.7s\n",
      "[Parallel(n_jobs=-1)]: Done 504 tasks      | elapsed:   18.6s\n",
      "[Parallel(n_jobs=-1)]: Done 1092 tasks      | elapsed:   39.6s\n",
      "[Parallel(n_jobs=-1)]: Done 2224 tasks      | elapsed:  1.3min\n",
      "[Parallel(n_jobs=-1)]: Done 3524 tasks      | elapsed:  2.0min\n",
      "[Parallel(n_jobs=-1)]: Done 5304 tasks      | elapsed:  2.9min\n",
      "[Parallel(n_jobs=-1)]: Done 7412 tasks      | elapsed:  4.1min\n",
      "[Parallel(n_jobs=-1)]: Done 9600 out of 9600 | elapsed:  5.3min finished\n"
     ]
    },
    {
     "data": {
      "text/plain": [
       "GridSearchCV(cv=10, estimator=LGBMRegressor(), n_jobs=-1,\n",
       "             param_grid={'colsample_bytree': [0.4, 0.5, 0.6, 0.9, 1],\n",
       "                         'learning_rate': [0.01, 0.1, 0.5, 1],\n",
       "                         'max_depth': [1, 2, 3, 4, 5, 6, 7, 8],\n",
       "                         'n_estimators': [20, 40, 100, 200, 500, 1000]},\n",
       "             verbose=2)"
      ]
     },
     "execution_count": 149,
     "metadata": {},
     "output_type": "execute_result"
    }
   ],
   "source": [
    "lgbm_cv_model.fit(X_train, y_train)"
   ]
  },
  {
   "cell_type": "code",
   "execution_count": 150,
   "metadata": {},
   "outputs": [
    {
     "data": {
      "text/plain": [
       "{'colsample_bytree': 0.4,\n",
       " 'learning_rate': 0.1,\n",
       " 'max_depth': 5,\n",
       " 'n_estimators': 1000}"
      ]
     },
     "execution_count": 150,
     "metadata": {},
     "output_type": "execute_result"
    }
   ],
   "source": [
    "lgbm_cv_model.best_params_"
   ]
  },
  {
   "cell_type": "code",
   "execution_count": 151,
   "metadata": {},
   "outputs": [],
   "source": [
    "lgbm_tuned = LGBMRegressor(learning_rate = 0.1, \n",
    "                           max_depth = 5, \n",
    "                           n_estimators = 1000,\n",
    "                          colsample_bytree = 0.4)\n",
    "\n",
    "lgbm_tuned = lgbm_tuned.fit(X_train,y_train)"
   ]
  },
  {
   "cell_type": "code",
   "execution_count": 152,
   "metadata": {},
   "outputs": [],
   "source": [
    "y_pred = lgbm_tuned.predict(X_test)"
   ]
  },
  {
   "cell_type": "code",
   "execution_count": 153,
   "metadata": {},
   "outputs": [
    {
     "data": {
      "text/plain": [
       "2109.530066981946"
      ]
     },
     "execution_count": 153,
     "metadata": {},
     "output_type": "execute_result"
    }
   ],
   "source": [
    "np.sqrt(mean_squared_error(y_test, y_pred))"
   ]
  },
  {
   "cell_type": "code",
   "execution_count": null,
   "metadata": {},
   "outputs": [],
   "source": []
  },
  {
   "cell_type": "code",
   "execution_count": null,
   "metadata": {},
   "outputs": [],
   "source": []
  },
  {
   "cell_type": "code",
   "execution_count": null,
   "metadata": {},
   "outputs": [],
   "source": []
  },
  {
   "cell_type": "code",
   "execution_count": null,
   "metadata": {},
   "outputs": [],
   "source": []
  },
  {
   "cell_type": "code",
   "execution_count": null,
   "metadata": {},
   "outputs": [],
   "source": []
  }
 ],
 "metadata": {
  "kernelspec": {
   "display_name": "Python 3",
   "language": "python",
   "name": "python3"
  },
  "language_info": {
   "codemirror_mode": {
    "name": "ipython",
    "version": 3
   },
   "file_extension": ".py",
   "mimetype": "text/x-python",
   "name": "python",
   "nbconvert_exporter": "python",
   "pygments_lexer": "ipython3",
   "version": "3.8.3"
  }
 },
 "nbformat": 4,
 "nbformat_minor": 4
}
